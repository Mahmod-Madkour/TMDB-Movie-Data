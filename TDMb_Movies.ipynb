{
 "cells": [
  {
   "cell_type": "markdown",
   "id": "931529a1",
   "metadata": {},
   "source": [
    "# Project: TMDb Movie Data\n",
    "\n",
    "## Table of Contents\n",
    "<ul>\n",
    "<li><a href=\"#intro\">Introduction</a></li>\n",
    "<li><a href=\"#wrangling\">Data Wrangling</a></li>\n",
    "<li><a href=\"#eda\">Exploratory Data Analysis</a></li>\n",
    "<li><a href=\"#conclusions\">Conclusions</a></li>\n",
    "</ul>"
   ]
  },
  {
   "cell_type": "markdown",
   "id": "cc873dca",
   "metadata": {},
   "source": [
    "<a id='intro'></a>\n",
    "## Introduction\n",
    "\n",
    "- Introduction to the data set.\n",
    ">This data set contains information about 10,000 movies collected from The Movie Database (TMDb).\n",
    "The dataset contains 10,866 rows and 21 columns, such as popularity, budget, revenue, original title of the movie, and more details for each movie produced.\n",
    "\n",
    "- Questions I plan to explore?\n",
    "    1. In what year were the highest and lowest number of movies released?\n",
    "    2. What were the highest profit movies from 1960 to 2015?\n",
    "    3. What are the movies that have achieved the highest and lowest revenue?\n",
    "    4. What movies have the highest and lowest ratings from viewers?\n",
    "    5. Who are the most prominent directors who have shot the most movies?\n",
    "    6. What is the relationship between revenue and movie popularity?\n",
    "    7. What is the relationship between revenue and movie budget?\n",
    "    8. What is the relationship between revenue and viewers' vote on the movie?"
   ]
  },
  {
   "cell_type": "markdown",
   "id": "a7320dd3",
   "metadata": {},
   "source": [
    "<a id='wrangling'></a>\n",
    "## Data Wrangling"
   ]
  },
  {
   "cell_type": "markdown",
   "id": "8aef7ca2",
   "metadata": {},
   "source": [
    "### Import Libraries"
   ]
  },
  {
   "cell_type": "code",
   "execution_count": 1,
   "id": "894c7ceb",
   "metadata": {},
   "outputs": [],
   "source": [
    "import pandas as pd\n",
    "import numpy as np\n",
    "import seaborn as sns\n",
    "import datetime\n",
    "import matplotlib.pyplot as plt\n",
    "%matplotlib inline"
   ]
  },
  {
   "cell_type": "code",
   "execution_count": 2,
   "id": "24520b6c",
   "metadata": {},
   "outputs": [],
   "source": [
    "pd.reset_option('display.float_format')"
   ]
  },
  {
   "cell_type": "code",
   "execution_count": 3,
   "id": "4fce6363",
   "metadata": {},
   "outputs": [],
   "source": [
    "pd.set_option('display.max_colwidth', None)"
   ]
  },
  {
   "cell_type": "code",
   "execution_count": 4,
   "id": "abccfb0d",
   "metadata": {},
   "outputs": [],
   "source": [
    "pd.set_option('display.max_columns', None)"
   ]
  },
  {
   "cell_type": "code",
   "execution_count": null,
   "id": "c63af24f",
   "metadata": {},
   "outputs": [],
   "source": []
  },
  {
   "cell_type": "markdown",
   "id": "9f2180c7",
   "metadata": {},
   "source": [
    "### Gathering Data"
   ]
  },
  {
   "cell_type": "code",
   "execution_count": 5,
   "id": "f1d9c1a1",
   "metadata": {},
   "outputs": [],
   "source": [
    "df = pd.read_csv('db-movies.csv')"
   ]
  },
  {
   "cell_type": "code",
   "execution_count": 6,
   "id": "78d5be67",
   "metadata": {},
   "outputs": [
    {
     "data": {
      "text/plain": [
       "(10866, 21)"
      ]
     },
     "execution_count": 6,
     "metadata": {},
     "output_type": "execute_result"
    }
   ],
   "source": [
    "df.shape"
   ]
  },
  {
   "cell_type": "code",
   "execution_count": 7,
   "id": "14762799",
   "metadata": {
    "scrolled": true
   },
   "outputs": [
    {
     "name": "stdout",
     "output_type": "stream",
     "text": [
      "<class 'pandas.core.frame.DataFrame'>\n",
      "RangeIndex: 10866 entries, 0 to 10865\n",
      "Data columns (total 21 columns):\n",
      " #   Column                Non-Null Count  Dtype  \n",
      "---  ------                --------------  -----  \n",
      " 0   id                    10866 non-null  int64  \n",
      " 1   imdb_id               10856 non-null  object \n",
      " 2   popularity            10866 non-null  float64\n",
      " 3   budget                10866 non-null  int64  \n",
      " 4   revenue               10866 non-null  int64  \n",
      " 5   original_title        10866 non-null  object \n",
      " 6   cast                  10790 non-null  object \n",
      " 7   homepage              2936 non-null   object \n",
      " 8   director              10822 non-null  object \n",
      " 9   tagline               8042 non-null   object \n",
      " 10  keywords              9373 non-null   object \n",
      " 11  overview              10862 non-null  object \n",
      " 12  runtime               10866 non-null  int64  \n",
      " 13  genres                10843 non-null  object \n",
      " 14  production_companies  9836 non-null   object \n",
      " 15  release_date          10866 non-null  object \n",
      " 16  vote_count            10866 non-null  int64  \n",
      " 17  vote_average          10866 non-null  float64\n",
      " 18  release_year          10866 non-null  int64  \n",
      " 19  budget_adj            10866 non-null  float64\n",
      " 20  revenue_adj           10866 non-null  float64\n",
      "dtypes: float64(4), int64(6), object(11)\n",
      "memory usage: 1.7+ MB\n"
     ]
    }
   ],
   "source": [
    "df.info()"
   ]
  },
  {
   "cell_type": "code",
   "execution_count": 8,
   "id": "8fc79fd4",
   "metadata": {
    "scrolled": true
   },
   "outputs": [
    {
     "data": {
      "text/html": [
       "<div>\n",
       "<style scoped>\n",
       "    .dataframe tbody tr th:only-of-type {\n",
       "        vertical-align: middle;\n",
       "    }\n",
       "\n",
       "    .dataframe tbody tr th {\n",
       "        vertical-align: top;\n",
       "    }\n",
       "\n",
       "    .dataframe thead th {\n",
       "        text-align: right;\n",
       "    }\n",
       "</style>\n",
       "<table border=\"1\" class=\"dataframe\">\n",
       "  <thead>\n",
       "    <tr style=\"text-align: right;\">\n",
       "      <th></th>\n",
       "      <th>id</th>\n",
       "      <th>imdb_id</th>\n",
       "      <th>popularity</th>\n",
       "      <th>budget</th>\n",
       "      <th>revenue</th>\n",
       "      <th>original_title</th>\n",
       "      <th>cast</th>\n",
       "      <th>homepage</th>\n",
       "      <th>director</th>\n",
       "      <th>tagline</th>\n",
       "      <th>keywords</th>\n",
       "      <th>overview</th>\n",
       "      <th>runtime</th>\n",
       "      <th>genres</th>\n",
       "      <th>production_companies</th>\n",
       "      <th>release_date</th>\n",
       "      <th>vote_count</th>\n",
       "      <th>vote_average</th>\n",
       "      <th>release_year</th>\n",
       "      <th>budget_adj</th>\n",
       "      <th>revenue_adj</th>\n",
       "    </tr>\n",
       "  </thead>\n",
       "  <tbody>\n",
       "    <tr>\n",
       "      <th>0</th>\n",
       "      <td>135397</td>\n",
       "      <td>tt0369610</td>\n",
       "      <td>32.985763</td>\n",
       "      <td>150000000</td>\n",
       "      <td>1513528810</td>\n",
       "      <td>Jurassic World</td>\n",
       "      <td>Chris Pratt|Bryce Dallas Howard|Irrfan Khan|Vincent D'Onofrio|Nick Robinson</td>\n",
       "      <td>http://www.jurassicworld.com/</td>\n",
       "      <td>Colin Trevorrow</td>\n",
       "      <td>The park is open.</td>\n",
       "      <td>monster|dna|tyrannosaurus rex|velociraptor|island</td>\n",
       "      <td>Twenty-two years after the events of Jurassic Park, Isla Nublar now features a fully functioning dinosaur theme park, Jurassic World, as originally envisioned by John Hammond.</td>\n",
       "      <td>124</td>\n",
       "      <td>Action|Adventure|Science Fiction|Thriller</td>\n",
       "      <td>Universal Studios|Amblin Entertainment|Legendary Pictures|Fuji Television Network|Dentsu</td>\n",
       "      <td>6/9/15</td>\n",
       "      <td>5562</td>\n",
       "      <td>6.5</td>\n",
       "      <td>2015</td>\n",
       "      <td>1.379999e+08</td>\n",
       "      <td>1.392446e+09</td>\n",
       "    </tr>\n",
       "    <tr>\n",
       "      <th>1</th>\n",
       "      <td>76341</td>\n",
       "      <td>tt1392190</td>\n",
       "      <td>28.419936</td>\n",
       "      <td>150000000</td>\n",
       "      <td>378436354</td>\n",
       "      <td>Mad Max: Fury Road</td>\n",
       "      <td>Tom Hardy|Charlize Theron|Hugh Keays-Byrne|Nicholas Hoult|Josh Helman</td>\n",
       "      <td>http://www.madmaxmovie.com/</td>\n",
       "      <td>George Miller</td>\n",
       "      <td>What a Lovely Day.</td>\n",
       "      <td>future|chase|post-apocalyptic|dystopia|australia</td>\n",
       "      <td>An apocalyptic story set in the furthest reaches of our planet, in a stark desert landscape where humanity is broken, and most everyone is crazed fighting for the necessities of life. Within this world exist two rebels on the run who just might be able to restore order. There's Max, a man of action and a man of few words, who seeks peace of mind following the loss of his wife and child in the aftermath of the chaos. And Furiosa, a woman of action and a woman who believes her path to survival may be achieved if she can make it across the desert back to her childhood homeland.</td>\n",
       "      <td>120</td>\n",
       "      <td>Action|Adventure|Science Fiction|Thriller</td>\n",
       "      <td>Village Roadshow Pictures|Kennedy Miller Productions</td>\n",
       "      <td>5/13/15</td>\n",
       "      <td>6185</td>\n",
       "      <td>7.1</td>\n",
       "      <td>2015</td>\n",
       "      <td>1.379999e+08</td>\n",
       "      <td>3.481613e+08</td>\n",
       "    </tr>\n",
       "    <tr>\n",
       "      <th>2</th>\n",
       "      <td>262500</td>\n",
       "      <td>tt2908446</td>\n",
       "      <td>13.112507</td>\n",
       "      <td>110000000</td>\n",
       "      <td>295238201</td>\n",
       "      <td>Insurgent</td>\n",
       "      <td>Shailene Woodley|Theo James|Kate Winslet|Ansel Elgort|Miles Teller</td>\n",
       "      <td>http://www.thedivergentseries.movie/#insurgent</td>\n",
       "      <td>Robert Schwentke</td>\n",
       "      <td>One Choice Can Destroy You</td>\n",
       "      <td>based on novel|revolution|dystopia|sequel|dystopic future</td>\n",
       "      <td>Beatrice Prior must confront her inner demons and continue her fight against a powerful alliance which threatens to tear her society apart.</td>\n",
       "      <td>119</td>\n",
       "      <td>Adventure|Science Fiction|Thriller</td>\n",
       "      <td>Summit Entertainment|Mandeville Films|Red Wagon Entertainment|NeoReel</td>\n",
       "      <td>3/18/15</td>\n",
       "      <td>2480</td>\n",
       "      <td>6.3</td>\n",
       "      <td>2015</td>\n",
       "      <td>1.012000e+08</td>\n",
       "      <td>2.716190e+08</td>\n",
       "    </tr>\n",
       "  </tbody>\n",
       "</table>\n",
       "</div>"
      ],
      "text/plain": [
       "       id    imdb_id  popularity     budget     revenue      original_title  \\\n",
       "0  135397  tt0369610   32.985763  150000000  1513528810      Jurassic World   \n",
       "1   76341  tt1392190   28.419936  150000000   378436354  Mad Max: Fury Road   \n",
       "2  262500  tt2908446   13.112507  110000000   295238201           Insurgent   \n",
       "\n",
       "                                                                          cast  \\\n",
       "0  Chris Pratt|Bryce Dallas Howard|Irrfan Khan|Vincent D'Onofrio|Nick Robinson   \n",
       "1        Tom Hardy|Charlize Theron|Hugh Keays-Byrne|Nicholas Hoult|Josh Helman   \n",
       "2           Shailene Woodley|Theo James|Kate Winslet|Ansel Elgort|Miles Teller   \n",
       "\n",
       "                                         homepage          director  \\\n",
       "0                   http://www.jurassicworld.com/   Colin Trevorrow   \n",
       "1                     http://www.madmaxmovie.com/     George Miller   \n",
       "2  http://www.thedivergentseries.movie/#insurgent  Robert Schwentke   \n",
       "\n",
       "                      tagline  \\\n",
       "0           The park is open.   \n",
       "1          What a Lovely Day.   \n",
       "2  One Choice Can Destroy You   \n",
       "\n",
       "                                                    keywords  \\\n",
       "0          monster|dna|tyrannosaurus rex|velociraptor|island   \n",
       "1           future|chase|post-apocalyptic|dystopia|australia   \n",
       "2  based on novel|revolution|dystopia|sequel|dystopic future   \n",
       "\n",
       "                                                                                                                                                                                                                                                                                                                                                                                                                                                                                                                                                                                                overview  \\\n",
       "0                                                                                                                                                                                                                                                                                                                                                                                                                        Twenty-two years after the events of Jurassic Park, Isla Nublar now features a fully functioning dinosaur theme park, Jurassic World, as originally envisioned by John Hammond.   \n",
       "1  An apocalyptic story set in the furthest reaches of our planet, in a stark desert landscape where humanity is broken, and most everyone is crazed fighting for the necessities of life. Within this world exist two rebels on the run who just might be able to restore order. There's Max, a man of action and a man of few words, who seeks peace of mind following the loss of his wife and child in the aftermath of the chaos. And Furiosa, a woman of action and a woman who believes her path to survival may be achieved if she can make it across the desert back to her childhood homeland.   \n",
       "2                                                                                                                                                                                                                                                                                                                                                                                                                                                            Beatrice Prior must confront her inner demons and continue her fight against a powerful alliance which threatens to tear her society apart.   \n",
       "\n",
       "   runtime                                     genres  \\\n",
       "0      124  Action|Adventure|Science Fiction|Thriller   \n",
       "1      120  Action|Adventure|Science Fiction|Thriller   \n",
       "2      119         Adventure|Science Fiction|Thriller   \n",
       "\n",
       "                                                                       production_companies  \\\n",
       "0  Universal Studios|Amblin Entertainment|Legendary Pictures|Fuji Television Network|Dentsu   \n",
       "1                                      Village Roadshow Pictures|Kennedy Miller Productions   \n",
       "2                     Summit Entertainment|Mandeville Films|Red Wagon Entertainment|NeoReel   \n",
       "\n",
       "  release_date  vote_count  vote_average  release_year    budget_adj  \\\n",
       "0       6/9/15        5562           6.5          2015  1.379999e+08   \n",
       "1      5/13/15        6185           7.1          2015  1.379999e+08   \n",
       "2      3/18/15        2480           6.3          2015  1.012000e+08   \n",
       "\n",
       "    revenue_adj  \n",
       "0  1.392446e+09  \n",
       "1  3.481613e+08  \n",
       "2  2.716190e+08  "
      ]
     },
     "execution_count": 8,
     "metadata": {},
     "output_type": "execute_result"
    }
   ],
   "source": [
    "df.head(3)"
   ]
  },
  {
   "cell_type": "code",
   "execution_count": 9,
   "id": "bfce3f13",
   "metadata": {
    "scrolled": true
   },
   "outputs": [
    {
     "data": {
      "text/html": [
       "<div>\n",
       "<style scoped>\n",
       "    .dataframe tbody tr th:only-of-type {\n",
       "        vertical-align: middle;\n",
       "    }\n",
       "\n",
       "    .dataframe tbody tr th {\n",
       "        vertical-align: top;\n",
       "    }\n",
       "\n",
       "    .dataframe thead th {\n",
       "        text-align: right;\n",
       "    }\n",
       "</style>\n",
       "<table border=\"1\" class=\"dataframe\">\n",
       "  <thead>\n",
       "    <tr style=\"text-align: right;\">\n",
       "      <th></th>\n",
       "      <th>id</th>\n",
       "      <th>popularity</th>\n",
       "      <th>budget</th>\n",
       "      <th>revenue</th>\n",
       "      <th>runtime</th>\n",
       "      <th>vote_count</th>\n",
       "      <th>vote_average</th>\n",
       "      <th>release_year</th>\n",
       "      <th>budget_adj</th>\n",
       "      <th>revenue_adj</th>\n",
       "    </tr>\n",
       "  </thead>\n",
       "  <tbody>\n",
       "    <tr>\n",
       "      <th>count</th>\n",
       "      <td>10866.000000</td>\n",
       "      <td>10866.000000</td>\n",
       "      <td>1.086600e+04</td>\n",
       "      <td>1.086600e+04</td>\n",
       "      <td>10866.000000</td>\n",
       "      <td>10866.000000</td>\n",
       "      <td>10866.000000</td>\n",
       "      <td>10866.000000</td>\n",
       "      <td>1.086600e+04</td>\n",
       "      <td>1.086600e+04</td>\n",
       "    </tr>\n",
       "    <tr>\n",
       "      <th>mean</th>\n",
       "      <td>66064.177434</td>\n",
       "      <td>0.646441</td>\n",
       "      <td>1.462570e+07</td>\n",
       "      <td>3.982332e+07</td>\n",
       "      <td>102.070863</td>\n",
       "      <td>217.389748</td>\n",
       "      <td>5.974922</td>\n",
       "      <td>2001.322658</td>\n",
       "      <td>1.755104e+07</td>\n",
       "      <td>5.136436e+07</td>\n",
       "    </tr>\n",
       "    <tr>\n",
       "      <th>std</th>\n",
       "      <td>92130.136561</td>\n",
       "      <td>1.000185</td>\n",
       "      <td>3.091321e+07</td>\n",
       "      <td>1.170035e+08</td>\n",
       "      <td>31.381405</td>\n",
       "      <td>575.619058</td>\n",
       "      <td>0.935142</td>\n",
       "      <td>12.812941</td>\n",
       "      <td>3.430616e+07</td>\n",
       "      <td>1.446325e+08</td>\n",
       "    </tr>\n",
       "    <tr>\n",
       "      <th>min</th>\n",
       "      <td>5.000000</td>\n",
       "      <td>0.000065</td>\n",
       "      <td>0.000000e+00</td>\n",
       "      <td>0.000000e+00</td>\n",
       "      <td>0.000000</td>\n",
       "      <td>10.000000</td>\n",
       "      <td>1.500000</td>\n",
       "      <td>1960.000000</td>\n",
       "      <td>0.000000e+00</td>\n",
       "      <td>0.000000e+00</td>\n",
       "    </tr>\n",
       "    <tr>\n",
       "      <th>25%</th>\n",
       "      <td>10596.250000</td>\n",
       "      <td>0.207583</td>\n",
       "      <td>0.000000e+00</td>\n",
       "      <td>0.000000e+00</td>\n",
       "      <td>90.000000</td>\n",
       "      <td>17.000000</td>\n",
       "      <td>5.400000</td>\n",
       "      <td>1995.000000</td>\n",
       "      <td>0.000000e+00</td>\n",
       "      <td>0.000000e+00</td>\n",
       "    </tr>\n",
       "    <tr>\n",
       "      <th>50%</th>\n",
       "      <td>20669.000000</td>\n",
       "      <td>0.383856</td>\n",
       "      <td>0.000000e+00</td>\n",
       "      <td>0.000000e+00</td>\n",
       "      <td>99.000000</td>\n",
       "      <td>38.000000</td>\n",
       "      <td>6.000000</td>\n",
       "      <td>2006.000000</td>\n",
       "      <td>0.000000e+00</td>\n",
       "      <td>0.000000e+00</td>\n",
       "    </tr>\n",
       "    <tr>\n",
       "      <th>75%</th>\n",
       "      <td>75610.000000</td>\n",
       "      <td>0.713817</td>\n",
       "      <td>1.500000e+07</td>\n",
       "      <td>2.400000e+07</td>\n",
       "      <td>111.000000</td>\n",
       "      <td>145.750000</td>\n",
       "      <td>6.600000</td>\n",
       "      <td>2011.000000</td>\n",
       "      <td>2.085325e+07</td>\n",
       "      <td>3.369710e+07</td>\n",
       "    </tr>\n",
       "    <tr>\n",
       "      <th>max</th>\n",
       "      <td>417859.000000</td>\n",
       "      <td>32.985763</td>\n",
       "      <td>4.250000e+08</td>\n",
       "      <td>2.781506e+09</td>\n",
       "      <td>900.000000</td>\n",
       "      <td>9767.000000</td>\n",
       "      <td>9.200000</td>\n",
       "      <td>2015.000000</td>\n",
       "      <td>4.250000e+08</td>\n",
       "      <td>2.827124e+09</td>\n",
       "    </tr>\n",
       "  </tbody>\n",
       "</table>\n",
       "</div>"
      ],
      "text/plain": [
       "                  id    popularity        budget       revenue       runtime  \\\n",
       "count   10866.000000  10866.000000  1.086600e+04  1.086600e+04  10866.000000   \n",
       "mean    66064.177434      0.646441  1.462570e+07  3.982332e+07    102.070863   \n",
       "std     92130.136561      1.000185  3.091321e+07  1.170035e+08     31.381405   \n",
       "min         5.000000      0.000065  0.000000e+00  0.000000e+00      0.000000   \n",
       "25%     10596.250000      0.207583  0.000000e+00  0.000000e+00     90.000000   \n",
       "50%     20669.000000      0.383856  0.000000e+00  0.000000e+00     99.000000   \n",
       "75%     75610.000000      0.713817  1.500000e+07  2.400000e+07    111.000000   \n",
       "max    417859.000000     32.985763  4.250000e+08  2.781506e+09    900.000000   \n",
       "\n",
       "         vote_count  vote_average  release_year    budget_adj   revenue_adj  \n",
       "count  10866.000000  10866.000000  10866.000000  1.086600e+04  1.086600e+04  \n",
       "mean     217.389748      5.974922   2001.322658  1.755104e+07  5.136436e+07  \n",
       "std      575.619058      0.935142     12.812941  3.430616e+07  1.446325e+08  \n",
       "min       10.000000      1.500000   1960.000000  0.000000e+00  0.000000e+00  \n",
       "25%       17.000000      5.400000   1995.000000  0.000000e+00  0.000000e+00  \n",
       "50%       38.000000      6.000000   2006.000000  0.000000e+00  0.000000e+00  \n",
       "75%      145.750000      6.600000   2011.000000  2.085325e+07  3.369710e+07  \n",
       "max     9767.000000      9.200000   2015.000000  4.250000e+08  2.827124e+09  "
      ]
     },
     "execution_count": 9,
     "metadata": {},
     "output_type": "execute_result"
    }
   ],
   "source": [
    "df.describe()"
   ]
  },
  {
   "cell_type": "code",
   "execution_count": null,
   "id": "39a92d4c",
   "metadata": {},
   "outputs": [],
   "source": []
  },
  {
   "cell_type": "code",
   "execution_count": null,
   "id": "acb3b8bb",
   "metadata": {},
   "outputs": [],
   "source": []
  },
  {
   "cell_type": "markdown",
   "id": "95e47730",
   "metadata": {},
   "source": [
    "### Clening"
   ]
  },
  {
   "cell_type": "code",
   "execution_count": 10,
   "id": "2238db49",
   "metadata": {},
   "outputs": [],
   "source": [
    "df_c = df.copy()"
   ]
  },
  {
   "cell_type": "code",
   "execution_count": null,
   "id": "4ae1692c",
   "metadata": {},
   "outputs": [],
   "source": []
  },
  {
   "cell_type": "markdown",
   "id": "2185ff61",
   "metadata": {},
   "source": [
    "#### 1- Remove any unnecessary columns so that the table contains only information relevant to my analysis.\n",
    "> Remove columns using `.drop()` function"
   ]
  },
  {
   "cell_type": "markdown",
   "id": "e61a6076",
   "metadata": {},
   "source": [
    "##### Code"
   ]
  },
  {
   "cell_type": "code",
   "execution_count": 11,
   "id": "848ddd27",
   "metadata": {
    "scrolled": true
   },
   "outputs": [
    {
     "name": "stdout",
     "output_type": "stream",
     "text": [
      "<class 'pandas.core.frame.DataFrame'>\n",
      "RangeIndex: 10866 entries, 0 to 10865\n",
      "Data columns (total 21 columns):\n",
      " #   Column                Non-Null Count  Dtype  \n",
      "---  ------                --------------  -----  \n",
      " 0   id                    10866 non-null  int64  \n",
      " 1   imdb_id               10856 non-null  object \n",
      " 2   popularity            10866 non-null  float64\n",
      " 3   budget                10866 non-null  int64  \n",
      " 4   revenue               10866 non-null  int64  \n",
      " 5   original_title        10866 non-null  object \n",
      " 6   cast                  10790 non-null  object \n",
      " 7   homepage              2936 non-null   object \n",
      " 8   director              10822 non-null  object \n",
      " 9   tagline               8042 non-null   object \n",
      " 10  keywords              9373 non-null   object \n",
      " 11  overview              10862 non-null  object \n",
      " 12  runtime               10866 non-null  int64  \n",
      " 13  genres                10843 non-null  object \n",
      " 14  production_companies  9836 non-null   object \n",
      " 15  release_date          10866 non-null  object \n",
      " 16  vote_count            10866 non-null  int64  \n",
      " 17  vote_average          10866 non-null  float64\n",
      " 18  release_year          10866 non-null  int64  \n",
      " 19  budget_adj            10866 non-null  float64\n",
      " 20  revenue_adj           10866 non-null  float64\n",
      "dtypes: float64(4), int64(6), object(11)\n",
      "memory usage: 1.7+ MB\n"
     ]
    }
   ],
   "source": [
    "df_c.info()"
   ]
  },
  {
   "cell_type": "code",
   "execution_count": 12,
   "id": "c3d90b63",
   "metadata": {},
   "outputs": [],
   "source": [
    "# Remove unnecessary columns\n",
    "df_c.drop(['imdb_id', 'homepage', 'tagline', 'keywords', 'overview'], axis=1, inplace=True)"
   ]
  },
  {
   "cell_type": "markdown",
   "id": "5c1e2b58",
   "metadata": {},
   "source": [
    "##### Test"
   ]
  },
  {
   "cell_type": "code",
   "execution_count": 13,
   "id": "df2db027",
   "metadata": {
    "scrolled": true
   },
   "outputs": [
    {
     "name": "stdout",
     "output_type": "stream",
     "text": [
      "<class 'pandas.core.frame.DataFrame'>\n",
      "RangeIndex: 10866 entries, 0 to 10865\n",
      "Data columns (total 16 columns):\n",
      " #   Column                Non-Null Count  Dtype  \n",
      "---  ------                --------------  -----  \n",
      " 0   id                    10866 non-null  int64  \n",
      " 1   popularity            10866 non-null  float64\n",
      " 2   budget                10866 non-null  int64  \n",
      " 3   revenue               10866 non-null  int64  \n",
      " 4   original_title        10866 non-null  object \n",
      " 5   cast                  10790 non-null  object \n",
      " 6   director              10822 non-null  object \n",
      " 7   runtime               10866 non-null  int64  \n",
      " 8   genres                10843 non-null  object \n",
      " 9   production_companies  9836 non-null   object \n",
      " 10  release_date          10866 non-null  object \n",
      " 11  vote_count            10866 non-null  int64  \n",
      " 12  vote_average          10866 non-null  float64\n",
      " 13  release_year          10866 non-null  int64  \n",
      " 14  budget_adj            10866 non-null  float64\n",
      " 15  revenue_adj           10866 non-null  float64\n",
      "dtypes: float64(4), int64(6), object(6)\n",
      "memory usage: 1.3+ MB\n"
     ]
    }
   ],
   "source": [
    "df_c.info()"
   ]
  },
  {
   "cell_type": "code",
   "execution_count": 14,
   "id": "46a02073",
   "metadata": {},
   "outputs": [
    {
     "data": {
      "text/plain": [
       "(10866, 16)"
      ]
     },
     "execution_count": 14,
     "metadata": {},
     "output_type": "execute_result"
    }
   ],
   "source": [
    "df_c.shape"
   ]
  },
  {
   "cell_type": "code",
   "execution_count": null,
   "id": "9daebc4f",
   "metadata": {},
   "outputs": [],
   "source": []
  },
  {
   "cell_type": "markdown",
   "id": "46233def",
   "metadata": {},
   "source": [
    "#### 2- Remove Duplicate Rows\n",
    "> Remove the duplicate row using `drop_duplicates()` function"
   ]
  },
  {
   "cell_type": "markdown",
   "id": "e775340e",
   "metadata": {},
   "source": [
    "##### Code"
   ]
  },
  {
   "cell_type": "code",
   "execution_count": 15,
   "id": "6e92da25",
   "metadata": {},
   "outputs": [
    {
     "data": {
      "text/plain": [
       "1"
      ]
     },
     "execution_count": 15,
     "metadata": {},
     "output_type": "execute_result"
    }
   ],
   "source": [
    "df_c.duplicated().sum()"
   ]
  },
  {
   "cell_type": "code",
   "execution_count": 16,
   "id": "961405f4",
   "metadata": {},
   "outputs": [],
   "source": [
    "df_c.drop_duplicates(inplace = True)"
   ]
  },
  {
   "cell_type": "markdown",
   "id": "ae73aec0",
   "metadata": {},
   "source": [
    "##### Test"
   ]
  },
  {
   "cell_type": "code",
   "execution_count": 17,
   "id": "0e35364f",
   "metadata": {},
   "outputs": [
    {
     "data": {
      "text/plain": [
       "0"
      ]
     },
     "execution_count": 17,
     "metadata": {},
     "output_type": "execute_result"
    }
   ],
   "source": [
    "df_c.duplicated().sum()"
   ]
  },
  {
   "cell_type": "code",
   "execution_count": null,
   "id": "6e38f3f8",
   "metadata": {},
   "outputs": [],
   "source": []
  },
  {
   "cell_type": "markdown",
   "id": "dac261a4",
   "metadata": {},
   "source": [
    "#### 3- Drop rows that contain incorrect or Nan values.\n",
    "> Remove rows using `.dropna()` function"
   ]
  },
  {
   "cell_type": "markdown",
   "id": "80c60a2b",
   "metadata": {},
   "source": [
    "#### Note:\n",
    "- Using `.isna()` or `.isnull()` to select all rows with NaN under a single DataFrame column:\n",
    "    - df[df['column name'].isna()]\n",
    "- Using `.isna()` to select all rows with NaN under an entire DataFrame:\n",
    "    - [df.isna().any(axis=1)]"
   ]
  },
  {
   "cell_type": "markdown",
   "id": "b6ce1a2d",
   "metadata": {},
   "source": [
    "##### Code"
   ]
  },
  {
   "cell_type": "code",
   "execution_count": 18,
   "id": "f8ebd5d8",
   "metadata": {
    "scrolled": true
   },
   "outputs": [
    {
     "data": {
      "text/plain": [
       "(10865, 16)"
      ]
     },
     "execution_count": 18,
     "metadata": {},
     "output_type": "execute_result"
    }
   ],
   "source": [
    "df_c.shape"
   ]
  },
  {
   "cell_type": "code",
   "execution_count": 19,
   "id": "d80c3d37",
   "metadata": {
    "scrolled": true
   },
   "outputs": [
    {
     "data": {
      "text/plain": [
       "id                         0\n",
       "popularity                 0\n",
       "budget                     0\n",
       "revenue                    0\n",
       "original_title             0\n",
       "cast                      76\n",
       "director                  44\n",
       "runtime                    0\n",
       "genres                    23\n",
       "production_companies    1030\n",
       "release_date               0\n",
       "vote_count                 0\n",
       "vote_average               0\n",
       "release_year               0\n",
       "budget_adj                 0\n",
       "revenue_adj                0\n",
       "dtype: int64"
      ]
     },
     "execution_count": 19,
     "metadata": {},
     "output_type": "execute_result"
    }
   ],
   "source": [
    "df_c.isnull().sum()"
   ]
  },
  {
   "cell_type": "code",
   "execution_count": 20,
   "id": "6037a0ba",
   "metadata": {},
   "outputs": [
    {
     "name": "stdout",
     "output_type": "stream",
     "text": [
      "Rows With Zero Values In The Budget Column: 5696\n",
      "Rows With Zero Values In The Revenue Column: 6016\n"
     ]
    }
   ],
   "source": [
    "print(\"Rows With Zero Values In The Budget Column:\", df_c[(df_c['budget'] == 0)].shape[0])\n",
    "print(\"Rows With Zero Values In The Revenue Column:\", df_c[(df_c['revenue'] == 0)].shape[0])"
   ]
  },
  {
   "cell_type": "code",
   "execution_count": 21,
   "id": "cd34498e",
   "metadata": {},
   "outputs": [],
   "source": [
    "# Remove rows with Nan values\n",
    "df_c.dropna(inplace = True)"
   ]
  },
  {
   "cell_type": "markdown",
   "id": "d724ab3e",
   "metadata": {},
   "source": [
    "##### Test"
   ]
  },
  {
   "cell_type": "code",
   "execution_count": 22,
   "id": "0b6c01b8",
   "metadata": {
    "scrolled": false
   },
   "outputs": [
    {
     "data": {
      "text/plain": [
       "(9772, 16)"
      ]
     },
     "execution_count": 22,
     "metadata": {},
     "output_type": "execute_result"
    }
   ],
   "source": [
    "df_c.shape"
   ]
  },
  {
   "cell_type": "code",
   "execution_count": 23,
   "id": "4b7d23e3",
   "metadata": {
    "scrolled": true
   },
   "outputs": [
    {
     "data": {
      "text/plain": [
       "id                      0\n",
       "popularity              0\n",
       "budget                  0\n",
       "revenue                 0\n",
       "original_title          0\n",
       "cast                    0\n",
       "director                0\n",
       "runtime                 0\n",
       "genres                  0\n",
       "production_companies    0\n",
       "release_date            0\n",
       "vote_count              0\n",
       "vote_average            0\n",
       "release_year            0\n",
       "budget_adj              0\n",
       "revenue_adj             0\n",
       "dtype: int64"
      ]
     },
     "execution_count": 23,
     "metadata": {},
     "output_type": "execute_result"
    }
   ],
   "source": [
    "df_c.isnull().sum()"
   ]
  },
  {
   "cell_type": "code",
   "execution_count": null,
   "id": "75e64861",
   "metadata": {},
   "outputs": [],
   "source": []
  },
  {
   "cell_type": "code",
   "execution_count": null,
   "id": "ba37229b",
   "metadata": {},
   "outputs": [],
   "source": []
  },
  {
   "cell_type": "markdown",
   "id": "4e5cbf3a",
   "metadata": {},
   "source": [
    "#### 4- Modify values separated by linear characters (|) in`cast`, `genres` and `production_companies` colnmns.\n",
    "> Using `split()` funcion"
   ]
  },
  {
   "cell_type": "markdown",
   "id": "4b71a2b0",
   "metadata": {},
   "source": [
    "##### Code"
   ]
  },
  {
   "cell_type": "code",
   "execution_count": 24,
   "id": "3076e078",
   "metadata": {
    "scrolled": true
   },
   "outputs": [
    {
     "data": {
      "text/html": [
       "<div>\n",
       "<style scoped>\n",
       "    .dataframe tbody tr th:only-of-type {\n",
       "        vertical-align: middle;\n",
       "    }\n",
       "\n",
       "    .dataframe tbody tr th {\n",
       "        vertical-align: top;\n",
       "    }\n",
       "\n",
       "    .dataframe thead th {\n",
       "        text-align: right;\n",
       "    }\n",
       "</style>\n",
       "<table border=\"1\" class=\"dataframe\">\n",
       "  <thead>\n",
       "    <tr style=\"text-align: right;\">\n",
       "      <th></th>\n",
       "      <th>id</th>\n",
       "      <th>popularity</th>\n",
       "      <th>budget</th>\n",
       "      <th>revenue</th>\n",
       "      <th>original_title</th>\n",
       "      <th>cast</th>\n",
       "      <th>director</th>\n",
       "      <th>runtime</th>\n",
       "      <th>genres</th>\n",
       "      <th>production_companies</th>\n",
       "      <th>release_date</th>\n",
       "      <th>vote_count</th>\n",
       "      <th>vote_average</th>\n",
       "      <th>release_year</th>\n",
       "      <th>budget_adj</th>\n",
       "      <th>revenue_adj</th>\n",
       "    </tr>\n",
       "  </thead>\n",
       "  <tbody>\n",
       "    <tr>\n",
       "      <th>0</th>\n",
       "      <td>135397</td>\n",
       "      <td>32.985763</td>\n",
       "      <td>150000000</td>\n",
       "      <td>1513528810</td>\n",
       "      <td>Jurassic World</td>\n",
       "      <td>Chris Pratt|Bryce Dallas Howard|Irrfan Khan|Vincent D'Onofrio|Nick Robinson</td>\n",
       "      <td>Colin Trevorrow</td>\n",
       "      <td>124</td>\n",
       "      <td>Action|Adventure|Science Fiction|Thriller</td>\n",
       "      <td>Universal Studios|Amblin Entertainment|Legendary Pictures|Fuji Television Network|Dentsu</td>\n",
       "      <td>6/9/15</td>\n",
       "      <td>5562</td>\n",
       "      <td>6.5</td>\n",
       "      <td>2015</td>\n",
       "      <td>1.379999e+08</td>\n",
       "      <td>1.392446e+09</td>\n",
       "    </tr>\n",
       "  </tbody>\n",
       "</table>\n",
       "</div>"
      ],
      "text/plain": [
       "       id  popularity     budget     revenue  original_title  \\\n",
       "0  135397   32.985763  150000000  1513528810  Jurassic World   \n",
       "\n",
       "                                                                          cast  \\\n",
       "0  Chris Pratt|Bryce Dallas Howard|Irrfan Khan|Vincent D'Onofrio|Nick Robinson   \n",
       "\n",
       "          director  runtime                                     genres  \\\n",
       "0  Colin Trevorrow      124  Action|Adventure|Science Fiction|Thriller   \n",
       "\n",
       "                                                                       production_companies  \\\n",
       "0  Universal Studios|Amblin Entertainment|Legendary Pictures|Fuji Television Network|Dentsu   \n",
       "\n",
       "  release_date  vote_count  vote_average  release_year    budget_adj  \\\n",
       "0       6/9/15        5562           6.5          2015  1.379999e+08   \n",
       "\n",
       "    revenue_adj  \n",
       "0  1.392446e+09  "
      ]
     },
     "execution_count": 24,
     "metadata": {},
     "output_type": "execute_result"
    }
   ],
   "source": [
    "df_c.head(1)"
   ]
  },
  {
   "cell_type": "code",
   "execution_count": 25,
   "id": "6158257d",
   "metadata": {},
   "outputs": [
    {
     "data": {
      "text/plain": [
       "0        Action|Adventure|Science Fiction|Thriller\n",
       "1        Action|Adventure|Science Fiction|Thriller\n",
       "2               Adventure|Science Fiction|Thriller\n",
       "3         Action|Adventure|Science Fiction|Fantasy\n",
       "4                            Action|Crime|Thriller\n",
       "                           ...                    \n",
       "10861                                  Documentary\n",
       "10862                       Action|Adventure|Drama\n",
       "10863                               Mystery|Comedy\n",
       "10864                                Action|Comedy\n",
       "10865                                       Horror\n",
       "Name: genres, Length: 9772, dtype: object"
      ]
     },
     "execution_count": 25,
     "metadata": {},
     "output_type": "execute_result"
    }
   ],
   "source": [
    "df_c['genres']"
   ]
  },
  {
   "cell_type": "code",
   "execution_count": 26,
   "id": "1921522b",
   "metadata": {},
   "outputs": [],
   "source": [
    "df_c['cast'] = df_c['cast'].str.split('|')\n",
    "df_c['genres'] = df_c['genres'].str.split('|')\n",
    "df_c['production_companies'] = df_c['production_companies'].str.split('|')"
   ]
  },
  {
   "cell_type": "markdown",
   "id": "9078620c",
   "metadata": {},
   "source": [
    "##### Test"
   ]
  },
  {
   "cell_type": "code",
   "execution_count": 27,
   "id": "1a0b9da5",
   "metadata": {},
   "outputs": [
    {
     "data": {
      "text/html": [
       "<div>\n",
       "<style scoped>\n",
       "    .dataframe tbody tr th:only-of-type {\n",
       "        vertical-align: middle;\n",
       "    }\n",
       "\n",
       "    .dataframe tbody tr th {\n",
       "        vertical-align: top;\n",
       "    }\n",
       "\n",
       "    .dataframe thead th {\n",
       "        text-align: right;\n",
       "    }\n",
       "</style>\n",
       "<table border=\"1\" class=\"dataframe\">\n",
       "  <thead>\n",
       "    <tr style=\"text-align: right;\">\n",
       "      <th></th>\n",
       "      <th>id</th>\n",
       "      <th>popularity</th>\n",
       "      <th>budget</th>\n",
       "      <th>revenue</th>\n",
       "      <th>original_title</th>\n",
       "      <th>cast</th>\n",
       "      <th>director</th>\n",
       "      <th>runtime</th>\n",
       "      <th>genres</th>\n",
       "      <th>production_companies</th>\n",
       "      <th>release_date</th>\n",
       "      <th>vote_count</th>\n",
       "      <th>vote_average</th>\n",
       "      <th>release_year</th>\n",
       "      <th>budget_adj</th>\n",
       "      <th>revenue_adj</th>\n",
       "    </tr>\n",
       "  </thead>\n",
       "  <tbody>\n",
       "    <tr>\n",
       "      <th>0</th>\n",
       "      <td>135397</td>\n",
       "      <td>32.985763</td>\n",
       "      <td>150000000</td>\n",
       "      <td>1513528810</td>\n",
       "      <td>Jurassic World</td>\n",
       "      <td>[Chris Pratt, Bryce Dallas Howard, Irrfan Khan, Vincent D'Onofrio, Nick Robinson]</td>\n",
       "      <td>Colin Trevorrow</td>\n",
       "      <td>124</td>\n",
       "      <td>[Action, Adventure, Science Fiction, Thriller]</td>\n",
       "      <td>[Universal Studios, Amblin Entertainment, Legendary Pictures, Fuji Television Network, Dentsu]</td>\n",
       "      <td>6/9/15</td>\n",
       "      <td>5562</td>\n",
       "      <td>6.5</td>\n",
       "      <td>2015</td>\n",
       "      <td>1.379999e+08</td>\n",
       "      <td>1.392446e+09</td>\n",
       "    </tr>\n",
       "  </tbody>\n",
       "</table>\n",
       "</div>"
      ],
      "text/plain": [
       "       id  popularity     budget     revenue  original_title  \\\n",
       "0  135397   32.985763  150000000  1513528810  Jurassic World   \n",
       "\n",
       "                                                                                cast  \\\n",
       "0  [Chris Pratt, Bryce Dallas Howard, Irrfan Khan, Vincent D'Onofrio, Nick Robinson]   \n",
       "\n",
       "          director  runtime                                          genres  \\\n",
       "0  Colin Trevorrow      124  [Action, Adventure, Science Fiction, Thriller]   \n",
       "\n",
       "                                                                             production_companies  \\\n",
       "0  [Universal Studios, Amblin Entertainment, Legendary Pictures, Fuji Television Network, Dentsu]   \n",
       "\n",
       "  release_date  vote_count  vote_average  release_year    budget_adj  \\\n",
       "0       6/9/15        5562           6.5          2015  1.379999e+08   \n",
       "\n",
       "    revenue_adj  \n",
       "0  1.392446e+09  "
      ]
     },
     "execution_count": 27,
     "metadata": {},
     "output_type": "execute_result"
    }
   ],
   "source": [
    "df_c.head(1)"
   ]
  },
  {
   "cell_type": "code",
   "execution_count": 28,
   "id": "bccb8812",
   "metadata": {},
   "outputs": [
    {
     "data": {
      "text/plain": [
       "0        [Action, Adventure, Science Fiction, Thriller]\n",
       "1        [Action, Adventure, Science Fiction, Thriller]\n",
       "2                [Adventure, Science Fiction, Thriller]\n",
       "3         [Action, Adventure, Science Fiction, Fantasy]\n",
       "4                             [Action, Crime, Thriller]\n",
       "                              ...                      \n",
       "10861                                     [Documentary]\n",
       "10862                        [Action, Adventure, Drama]\n",
       "10863                                 [Mystery, Comedy]\n",
       "10864                                  [Action, Comedy]\n",
       "10865                                          [Horror]\n",
       "Name: genres, Length: 9772, dtype: object"
      ]
     },
     "execution_count": 28,
     "metadata": {},
     "output_type": "execute_result"
    }
   ],
   "source": [
    "df_c['genres']"
   ]
  },
  {
   "cell_type": "code",
   "execution_count": null,
   "id": "d7f28da1",
   "metadata": {},
   "outputs": [],
   "source": []
  },
  {
   "cell_type": "markdown",
   "id": "095bb44e",
   "metadata": {},
   "source": [
    "#### 5- Change the `release_date` column from object to datetime\n",
    "> Using `to_datetime()` function"
   ]
  },
  {
   "cell_type": "markdown",
   "id": "cfe56397",
   "metadata": {},
   "source": [
    "##### Code"
   ]
  },
  {
   "cell_type": "code",
   "execution_count": 29,
   "id": "2a899600",
   "metadata": {
    "scrolled": true
   },
   "outputs": [
    {
     "name": "stdout",
     "output_type": "stream",
     "text": [
      "<class 'pandas.core.frame.DataFrame'>\n",
      "Int64Index: 9772 entries, 0 to 10865\n",
      "Data columns (total 16 columns):\n",
      " #   Column                Non-Null Count  Dtype  \n",
      "---  ------                --------------  -----  \n",
      " 0   id                    9772 non-null   int64  \n",
      " 1   popularity            9772 non-null   float64\n",
      " 2   budget                9772 non-null   int64  \n",
      " 3   revenue               9772 non-null   int64  \n",
      " 4   original_title        9772 non-null   object \n",
      " 5   cast                  9772 non-null   object \n",
      " 6   director              9772 non-null   object \n",
      " 7   runtime               9772 non-null   int64  \n",
      " 8   genres                9772 non-null   object \n",
      " 9   production_companies  9772 non-null   object \n",
      " 10  release_date          9772 non-null   object \n",
      " 11  vote_count            9772 non-null   int64  \n",
      " 12  vote_average          9772 non-null   float64\n",
      " 13  release_year          9772 non-null   int64  \n",
      " 14  budget_adj            9772 non-null   float64\n",
      " 15  revenue_adj           9772 non-null   float64\n",
      "dtypes: float64(4), int64(6), object(6)\n",
      "memory usage: 1.3+ MB\n"
     ]
    }
   ],
   "source": [
    "df_c.info()"
   ]
  },
  {
   "cell_type": "code",
   "execution_count": 30,
   "id": "55076fd4",
   "metadata": {},
   "outputs": [],
   "source": [
    "df_c['release_date'] = pd.to_datetime(df_c['release_date'])"
   ]
  },
  {
   "cell_type": "markdown",
   "id": "621de6af",
   "metadata": {},
   "source": [
    "##### Test"
   ]
  },
  {
   "cell_type": "code",
   "execution_count": 31,
   "id": "a3d883e0",
   "metadata": {
    "scrolled": true
   },
   "outputs": [
    {
     "name": "stdout",
     "output_type": "stream",
     "text": [
      "<class 'pandas.core.frame.DataFrame'>\n",
      "Int64Index: 9772 entries, 0 to 10865\n",
      "Data columns (total 16 columns):\n",
      " #   Column                Non-Null Count  Dtype         \n",
      "---  ------                --------------  -----         \n",
      " 0   id                    9772 non-null   int64         \n",
      " 1   popularity            9772 non-null   float64       \n",
      " 2   budget                9772 non-null   int64         \n",
      " 3   revenue               9772 non-null   int64         \n",
      " 4   original_title        9772 non-null   object        \n",
      " 5   cast                  9772 non-null   object        \n",
      " 6   director              9772 non-null   object        \n",
      " 7   runtime               9772 non-null   int64         \n",
      " 8   genres                9772 non-null   object        \n",
      " 9   production_companies  9772 non-null   object        \n",
      " 10  release_date          9772 non-null   datetime64[ns]\n",
      " 11  vote_count            9772 non-null   int64         \n",
      " 12  vote_average          9772 non-null   float64       \n",
      " 13  release_year          9772 non-null   int64         \n",
      " 14  budget_adj            9772 non-null   float64       \n",
      " 15  revenue_adj           9772 non-null   float64       \n",
      "dtypes: datetime64[ns](1), float64(4), int64(6), object(5)\n",
      "memory usage: 1.3+ MB\n"
     ]
    }
   ],
   "source": [
    "df_c.info()"
   ]
  },
  {
   "cell_type": "code",
   "execution_count": null,
   "id": "4829f947",
   "metadata": {},
   "outputs": [],
   "source": []
  },
  {
   "cell_type": "code",
   "execution_count": null,
   "id": "7ff5ba27",
   "metadata": {},
   "outputs": [],
   "source": []
  },
  {
   "cell_type": "code",
   "execution_count": null,
   "id": "776cb583",
   "metadata": {},
   "outputs": [],
   "source": []
  },
  {
   "cell_type": "markdown",
   "id": "3a14887a",
   "metadata": {},
   "source": [
    "<a id='eda'></a>\n",
    "## Exploratory Data Analysis"
   ]
  },
  {
   "cell_type": "code",
   "execution_count": 32,
   "id": "6188bd7f",
   "metadata": {},
   "outputs": [],
   "source": [
    "mov = df_c.copy()"
   ]
  },
  {
   "cell_type": "code",
   "execution_count": null,
   "id": "d2be7d06",
   "metadata": {},
   "outputs": [],
   "source": []
  },
  {
   "cell_type": "markdown",
   "id": "537ea519",
   "metadata": {},
   "source": [
    "### Question 1: In what year were the highest and lowest number of movies released?"
   ]
  },
  {
   "cell_type": "code",
   "execution_count": 33,
   "id": "b0b072ed",
   "metadata": {
    "scrolled": true
   },
   "outputs": [
    {
     "data": {
      "text/plain": [
       "release_year\n",
       "1960     32\n",
       "1961     30\n",
       "1962     30\n",
       "1963     34\n",
       "1964     41\n",
       "1965     34\n",
       "1966     44\n",
       "1967     36\n",
       "1968     37\n",
       "1969     29\n",
       "1970     40\n",
       "1971     55\n",
       "1972     37\n",
       "1973     55\n",
       "1974     44\n",
       "1975     42\n",
       "1976     46\n",
       "1977     55\n",
       "1978     61\n",
       "1979     56\n",
       "1980     73\n",
       "1981     78\n",
       "1982     80\n",
       "1983     77\n",
       "1984     99\n",
       "1985    106\n",
       "1986    109\n",
       "1987    113\n",
       "1988    132\n",
       "1989    128\n",
       "1990    126\n",
       "1991    125\n",
       "1992    126\n",
       "1993    172\n",
       "1994    174\n",
       "1995    170\n",
       "1996    196\n",
       "1997    180\n",
       "1998    191\n",
       "1999    212\n",
       "2000    196\n",
       "2001    212\n",
       "2002    241\n",
       "2003    254\n",
       "2004    253\n",
       "2005    323\n",
       "2006    350\n",
       "2007    389\n",
       "2008    441\n",
       "2009    474\n",
       "2010    420\n",
       "2011    456\n",
       "2012    498\n",
       "2013    567\n",
       "2014    635\n",
       "2015    558\n",
       "Name: id, dtype: int64"
      ]
     },
     "execution_count": 33,
     "metadata": {},
     "output_type": "execute_result"
    }
   ],
   "source": [
    "# Make group for each year and count the number of movies in each year \n",
    "date = mov.groupby('release_year').count()['id']\n",
    "date\n",
    "\n",
    "# OR\n",
    "# date = mov.pivot_table(columns=['release_year'], aggfunc='size')"
   ]
  },
  {
   "cell_type": "code",
   "execution_count": 34,
   "id": "15322e16",
   "metadata": {
    "scrolled": false
   },
   "outputs": [
    {
     "name": "stdout",
     "output_type": "stream",
     "text": [
      "The largest number of movies produced in one year is:  635  And it was in 2014\n",
      "The lowest number of movies produced in one year is:  635  And it was in 1969\n"
     ]
    }
   ],
   "source": [
    "max_num = date.max()\n",
    "mini_num = date.max()\n",
    "\n",
    "print(\"The largest number of movies produced in one year is: \",max_num , \" And it was in 2014\")\n",
    "print(\"The lowest number of movies produced in one year is: \",mini_num , \" And it was in 1969\")"
   ]
  },
  {
   "cell_type": "code",
   "execution_count": 35,
   "id": "7a260842",
   "metadata": {
    "scrolled": true
   },
   "outputs": [
    {
     "data": {
      "image/png": "[encoded data removed]",
      "text/plain": [
       "<Figure size 432x288 with 1 Axes>"
      ]
     },
     "metadata": {
      "needs_background": "light"
     },
     "output_type": "display_data"
    }
   ],
   "source": [
    "date.plot(xticks = np.arange(1960,2016,5))\n",
    "\n",
    "#set the size and labels\n",
    "plt.title(\"Year Vs Number Of Movies\",fontsize = 15)\n",
    "plt.xlabel('Year',fontsize = 14);\n",
    "plt.ylabel('Number Of Movies',fontsize = 14);"
   ]
  },
  {
   "cell_type": "markdown",
   "id": "a41b8fb3",
   "metadata": {},
   "source": [
    "### Answer 1:\n",
    "- The lowest number of movies produced in 1969\n",
    "- The largest number of movies produced in 2014\n",
    "- As shown over the years, the number of films produced increases from year to year"
   ]
  },
  {
   "cell_type": "code",
   "execution_count": null,
   "id": "4fc914a4",
   "metadata": {},
   "outputs": [],
   "source": []
  },
  {
   "cell_type": "code",
   "execution_count": null,
   "id": "8a9d3454",
   "metadata": {},
   "outputs": [],
   "source": []
  },
  {
   "cell_type": "markdown",
   "id": "caf7ce6c",
   "metadata": {},
   "source": [
    "### Question 2: What were the highest profit movies from 1960 to 2015?"
   ]
  },
  {
   "cell_type": "code",
   "execution_count": 36,
   "id": "9b08ea78",
   "metadata": {
    "scrolled": true
   },
   "outputs": [],
   "source": [
    "# Calculation of profit for each movie\n",
    "mov['profit'] = mov['revenue'] - mov['budget']"
   ]
  },
  {
   "cell_type": "code",
   "execution_count": 37,
   "id": "d331f589",
   "metadata": {},
   "outputs": [
    {
     "data": {
      "text/html": [
       "<div>\n",
       "<style scoped>\n",
       "    .dataframe tbody tr th:only-of-type {\n",
       "        vertical-align: middle;\n",
       "    }\n",
       "\n",
       "    .dataframe tbody tr th {\n",
       "        vertical-align: top;\n",
       "    }\n",
       "\n",
       "    .dataframe thead th {\n",
       "        text-align: right;\n",
       "    }\n",
       "</style>\n",
       "<table border=\"1\" class=\"dataframe\">\n",
       "  <thead>\n",
       "    <tr style=\"text-align: right;\">\n",
       "      <th></th>\n",
       "      <th>id</th>\n",
       "      <th>popularity</th>\n",
       "      <th>budget</th>\n",
       "      <th>revenue</th>\n",
       "      <th>original_title</th>\n",
       "      <th>cast</th>\n",
       "      <th>director</th>\n",
       "      <th>runtime</th>\n",
       "      <th>genres</th>\n",
       "      <th>production_companies</th>\n",
       "      <th>release_date</th>\n",
       "      <th>vote_count</th>\n",
       "      <th>vote_average</th>\n",
       "      <th>release_year</th>\n",
       "      <th>budget_adj</th>\n",
       "      <th>revenue_adj</th>\n",
       "      <th>profit</th>\n",
       "    </tr>\n",
       "  </thead>\n",
       "  <tbody>\n",
       "    <tr>\n",
       "      <th>1386</th>\n",
       "      <td>19995</td>\n",
       "      <td>9.432768</td>\n",
       "      <td>237000000</td>\n",
       "      <td>2781505847</td>\n",
       "      <td>Avatar</td>\n",
       "      <td>[Sam Worthington, Zoe Saldana, Sigourney Weaver, Stephen Lang, Michelle Rodriguez]</td>\n",
       "      <td>James Cameron</td>\n",
       "      <td>162</td>\n",
       "      <td>[Action, Adventure, Fantasy, Science Fiction]</td>\n",
       "      <td>[Ingenious Film Partners, Twentieth Century Fox Film Corporation, Dune Entertainment, Lightstorm Entertainment]</td>\n",
       "      <td>2009-12-10</td>\n",
       "      <td>8458</td>\n",
       "      <td>7.1</td>\n",
       "      <td>2009</td>\n",
       "      <td>2.408869e+08</td>\n",
       "      <td>2.827124e+09</td>\n",
       "      <td>2544505847</td>\n",
       "    </tr>\n",
       "  </tbody>\n",
       "</table>\n",
       "</div>"
      ],
      "text/plain": [
       "         id  popularity     budget     revenue original_title  \\\n",
       "1386  19995    9.432768  237000000  2781505847         Avatar   \n",
       "\n",
       "                                                                                    cast  \\\n",
       "1386  [Sam Worthington, Zoe Saldana, Sigourney Weaver, Stephen Lang, Michelle Rodriguez]   \n",
       "\n",
       "           director  runtime                                         genres  \\\n",
       "1386  James Cameron      162  [Action, Adventure, Fantasy, Science Fiction]   \n",
       "\n",
       "                                                                                                 production_companies  \\\n",
       "1386  [Ingenious Film Partners, Twentieth Century Fox Film Corporation, Dune Entertainment, Lightstorm Entertainment]   \n",
       "\n",
       "     release_date  vote_count  vote_average  release_year    budget_adj  \\\n",
       "1386   2009-12-10        8458           7.1          2009  2.408869e+08   \n",
       "\n",
       "       revenue_adj      profit  \n",
       "1386  2.827124e+09  2544505847  "
      ]
     },
     "execution_count": 37,
     "metadata": {},
     "output_type": "execute_result"
    }
   ],
   "source": [
    "# Print The movie with the highest profit\n",
    "max_profit = mov['profit'].max()\n",
    "mov[mov['profit'] == max_profit]"
   ]
  },
  {
   "cell_type": "code",
   "execution_count": 38,
   "id": "799afa0b",
   "metadata": {},
   "outputs": [
    {
     "data": {
      "text/html": [
       "<div>\n",
       "<style scoped>\n",
       "    .dataframe tbody tr th:only-of-type {\n",
       "        vertical-align: middle;\n",
       "    }\n",
       "\n",
       "    .dataframe tbody tr th {\n",
       "        vertical-align: top;\n",
       "    }\n",
       "\n",
       "    .dataframe thead th {\n",
       "        text-align: right;\n",
       "    }\n",
       "</style>\n",
       "<table border=\"1\" class=\"dataframe\">\n",
       "  <thead>\n",
       "    <tr style=\"text-align: right;\">\n",
       "      <th></th>\n",
       "      <th>id</th>\n",
       "      <th>popularity</th>\n",
       "      <th>budget</th>\n",
       "      <th>revenue</th>\n",
       "      <th>original_title</th>\n",
       "      <th>cast</th>\n",
       "      <th>director</th>\n",
       "      <th>runtime</th>\n",
       "      <th>genres</th>\n",
       "      <th>production_companies</th>\n",
       "      <th>release_date</th>\n",
       "      <th>vote_count</th>\n",
       "      <th>vote_average</th>\n",
       "      <th>release_year</th>\n",
       "      <th>budget_adj</th>\n",
       "      <th>revenue_adj</th>\n",
       "      <th>profit</th>\n",
       "    </tr>\n",
       "  </thead>\n",
       "  <tbody>\n",
       "    <tr>\n",
       "      <th>2244</th>\n",
       "      <td>46528</td>\n",
       "      <td>0.25054</td>\n",
       "      <td>425000000</td>\n",
       "      <td>11087569</td>\n",
       "      <td>The Warrior's Way</td>\n",
       "      <td>[Kate Bosworth, Jang Dong-gun, Geoffrey Rush, Danny Huston, Ti Lung]</td>\n",
       "      <td>Sngmoo Lee</td>\n",
       "      <td>100</td>\n",
       "      <td>[Adventure, Fantasy, Action, Western, Thriller]</td>\n",
       "      <td>[Boram Entertainment Inc.]</td>\n",
       "      <td>2010-12-02</td>\n",
       "      <td>74</td>\n",
       "      <td>6.4</td>\n",
       "      <td>2010</td>\n",
       "      <td>425000000.0</td>\n",
       "      <td>11087569.0</td>\n",
       "      <td>-413912431</td>\n",
       "    </tr>\n",
       "  </tbody>\n",
       "</table>\n",
       "</div>"
      ],
      "text/plain": [
       "         id  popularity     budget   revenue     original_title  \\\n",
       "2244  46528     0.25054  425000000  11087569  The Warrior's Way   \n",
       "\n",
       "                                                                      cast  \\\n",
       "2244  [Kate Bosworth, Jang Dong-gun, Geoffrey Rush, Danny Huston, Ti Lung]   \n",
       "\n",
       "        director  runtime                                           genres  \\\n",
       "2244  Sngmoo Lee      100  [Adventure, Fantasy, Action, Western, Thriller]   \n",
       "\n",
       "            production_companies release_date  vote_count  vote_average  \\\n",
       "2244  [Boram Entertainment Inc.]   2010-12-02          74           6.4   \n",
       "\n",
       "      release_year   budget_adj  revenue_adj     profit  \n",
       "2244          2010  425000000.0   11087569.0 -413912431  "
      ]
     },
     "execution_count": 38,
     "metadata": {},
     "output_type": "execute_result"
    }
   ],
   "source": [
    "# Print The movie with the lowest profit\n",
    "mini_profit = mov['profit'].min()\n",
    "mov[mov['profit'] == mini_profit]"
   ]
  },
  {
   "cell_type": "code",
   "execution_count": 39,
   "id": "26bac575",
   "metadata": {
    "scrolled": false
   },
   "outputs": [
    {
     "data": {
      "image/png": "[encoded data removed]",
      "text/plain": [
       "<Figure size 432x288 with 1 Axes>"
      ]
     },
     "metadata": {
      "needs_background": "light"
     },
     "output_type": "display_data"
    }
   ],
   "source": [
    "# Make a plot which contain top 10 movies which earn highest profit.\n",
    "df_profit = pd.DataFrame(mov['profit'])\n",
    "df_profit['original_title'] = mov['original_title']\n",
    "# Sort\n",
    "df_profit = df_profit.sort_values(by=['profit'], ascending=False)\n",
    "\n",
    "data = list(map(str,(df_profit['original_title'])))\n",
    "x = list(data[:10])\n",
    "y = list(df_profit['profit'][:10])\n",
    "\n",
    "ax = sns.pointplot(x=y,y=x)\n",
    "ax.set_title(\"Top 10 Profitable Movies\",fontsize = 15);\n",
    "ax.set_xlabel(\"Profit\",fontsize = 14);"
   ]
  },
  {
   "cell_type": "markdown",
   "id": "04b82dd3",
   "metadata": {},
   "source": [
    "### Answer 2: \n",
    "- The highest-grossing movie was Avatar in 2009, directed by James Cameron, and the genre was [Action, Adventure, Fantasy, Sci-Fi]\n",
    "\n",
    "- Therefore, in order to achieve the highest profits for the movie, you must follow the specifications of the movie Avatar and the other highest-grossing films because these are the ones that the viewers liked.\n",
    "- But, The movie that took the most number of losses is The Warrior's Way in 2010 directed by Sngmoo Lee\n",
    "- So it is best to stay away from the specifications of the movie The Warrior's Way"
   ]
  },
  {
   "cell_type": "code",
   "execution_count": null,
   "id": "0cbef4b9",
   "metadata": {},
   "outputs": [],
   "source": []
  },
  {
   "cell_type": "code",
   "execution_count": null,
   "id": "6f6dc6eb",
   "metadata": {},
   "outputs": [],
   "source": []
  },
  {
   "cell_type": "markdown",
   "id": "f6dc3b2f",
   "metadata": {},
   "source": [
    "### Question 3: What are the movies that have achieved the highest and lowest revenue?"
   ]
  },
  {
   "cell_type": "code",
   "execution_count": 40,
   "id": "ba69158b",
   "metadata": {},
   "outputs": [
    {
     "data": {
      "text/html": [
       "<div>\n",
       "<style scoped>\n",
       "    .dataframe tbody tr th:only-of-type {\n",
       "        vertical-align: middle;\n",
       "    }\n",
       "\n",
       "    .dataframe tbody tr th {\n",
       "        vertical-align: top;\n",
       "    }\n",
       "\n",
       "    .dataframe thead th {\n",
       "        text-align: right;\n",
       "    }\n",
       "</style>\n",
       "<table border=\"1\" class=\"dataframe\">\n",
       "  <thead>\n",
       "    <tr style=\"text-align: right;\">\n",
       "      <th></th>\n",
       "      <th>id</th>\n",
       "      <th>popularity</th>\n",
       "      <th>budget</th>\n",
       "      <th>revenue</th>\n",
       "      <th>original_title</th>\n",
       "      <th>cast</th>\n",
       "      <th>director</th>\n",
       "      <th>runtime</th>\n",
       "      <th>genres</th>\n",
       "      <th>production_companies</th>\n",
       "      <th>release_date</th>\n",
       "      <th>vote_count</th>\n",
       "      <th>vote_average</th>\n",
       "      <th>release_year</th>\n",
       "      <th>budget_adj</th>\n",
       "      <th>revenue_adj</th>\n",
       "      <th>profit</th>\n",
       "    </tr>\n",
       "  </thead>\n",
       "  <tbody>\n",
       "    <tr>\n",
       "      <th>1386</th>\n",
       "      <td>19995</td>\n",
       "      <td>9.432768</td>\n",
       "      <td>237000000</td>\n",
       "      <td>2781505847</td>\n",
       "      <td>Avatar</td>\n",
       "      <td>[Sam Worthington, Zoe Saldana, Sigourney Weaver, Stephen Lang, Michelle Rodriguez]</td>\n",
       "      <td>James Cameron</td>\n",
       "      <td>162</td>\n",
       "      <td>[Action, Adventure, Fantasy, Science Fiction]</td>\n",
       "      <td>[Ingenious Film Partners, Twentieth Century Fox Film Corporation, Dune Entertainment, Lightstorm Entertainment]</td>\n",
       "      <td>2009-12-10</td>\n",
       "      <td>8458</td>\n",
       "      <td>7.1</td>\n",
       "      <td>2009</td>\n",
       "      <td>2.408869e+08</td>\n",
       "      <td>2.827124e+09</td>\n",
       "      <td>2544505847</td>\n",
       "    </tr>\n",
       "  </tbody>\n",
       "</table>\n",
       "</div>"
      ],
      "text/plain": [
       "         id  popularity     budget     revenue original_title  \\\n",
       "1386  19995    9.432768  237000000  2781505847         Avatar   \n",
       "\n",
       "                                                                                    cast  \\\n",
       "1386  [Sam Worthington, Zoe Saldana, Sigourney Weaver, Stephen Lang, Michelle Rodriguez]   \n",
       "\n",
       "           director  runtime                                         genres  \\\n",
       "1386  James Cameron      162  [Action, Adventure, Fantasy, Science Fiction]   \n",
       "\n",
       "                                                                                                 production_companies  \\\n",
       "1386  [Ingenious Film Partners, Twentieth Century Fox Film Corporation, Dune Entertainment, Lightstorm Entertainment]   \n",
       "\n",
       "     release_date  vote_count  vote_average  release_year    budget_adj  \\\n",
       "1386   2009-12-10        8458           7.1          2009  2.408869e+08   \n",
       "\n",
       "       revenue_adj      profit  \n",
       "1386  2.827124e+09  2544505847  "
      ]
     },
     "execution_count": 40,
     "metadata": {},
     "output_type": "execute_result"
    }
   ],
   "source": [
    "# Print The movie with the highest revenue\n",
    "max_rev = mov['revenue'].max()\n",
    "mov[mov['revenue'] == max_rev]"
   ]
  },
  {
   "cell_type": "code",
   "execution_count": 41,
   "id": "887fe9bc",
   "metadata": {
    "scrolled": true
   },
   "outputs": [
    {
     "data": {
      "text/html": [
       "<div>\n",
       "<style scoped>\n",
       "    .dataframe tbody tr th:only-of-type {\n",
       "        vertical-align: middle;\n",
       "    }\n",
       "\n",
       "    .dataframe tbody tr th {\n",
       "        vertical-align: top;\n",
       "    }\n",
       "\n",
       "    .dataframe thead th {\n",
       "        text-align: right;\n",
       "    }\n",
       "</style>\n",
       "<table border=\"1\" class=\"dataframe\">\n",
       "  <thead>\n",
       "    <tr style=\"text-align: right;\">\n",
       "      <th></th>\n",
       "      <th>id</th>\n",
       "      <th>popularity</th>\n",
       "      <th>budget</th>\n",
       "      <th>revenue</th>\n",
       "      <th>original_title</th>\n",
       "      <th>cast</th>\n",
       "      <th>director</th>\n",
       "      <th>runtime</th>\n",
       "      <th>genres</th>\n",
       "      <th>production_companies</th>\n",
       "      <th>release_date</th>\n",
       "      <th>vote_count</th>\n",
       "      <th>vote_average</th>\n",
       "      <th>release_year</th>\n",
       "      <th>budget_adj</th>\n",
       "      <th>revenue_adj</th>\n",
       "      <th>profit</th>\n",
       "    </tr>\n",
       "  </thead>\n",
       "  <tbody>\n",
       "    <tr>\n",
       "      <th>48</th>\n",
       "      <td>265208</td>\n",
       "      <td>2.932340</td>\n",
       "      <td>30000000</td>\n",
       "      <td>0</td>\n",
       "      <td>Wild Card</td>\n",
       "      <td>[Jason Statham, Michael Angarano, Milo Ventimiglia, Dominik GarcÃ­a-Lorido, Anne Heche]</td>\n",
       "      <td>Simon West</td>\n",
       "      <td>92</td>\n",
       "      <td>[Thriller, Crime, Drama]</td>\n",
       "      <td>[Current Entertainment, Lionsgate, Sierra / Affinity, SJ Heat Productions, Silver State Production Services]</td>\n",
       "      <td>2015-01-14</td>\n",
       "      <td>481</td>\n",
       "      <td>5.3</td>\n",
       "      <td>2015</td>\n",
       "      <td>2.759999e+07</td>\n",
       "      <td>0.0</td>\n",
       "      <td>-30000000</td>\n",
       "    </tr>\n",
       "    <tr>\n",
       "      <th>67</th>\n",
       "      <td>334074</td>\n",
       "      <td>2.331636</td>\n",
       "      <td>20000000</td>\n",
       "      <td>0</td>\n",
       "      <td>Survivor</td>\n",
       "      <td>[Pierce Brosnan, Milla Jovovich, Dylan McDermott, Angela Bassett, Robert Forster]</td>\n",
       "      <td>James McTeigue</td>\n",
       "      <td>96</td>\n",
       "      <td>[Crime, Thriller, Action]</td>\n",
       "      <td>[Nu Image Films, Winkler Films, Millennium Films, Survivor Productions]</td>\n",
       "      <td>2015-05-21</td>\n",
       "      <td>280</td>\n",
       "      <td>5.4</td>\n",
       "      <td>2015</td>\n",
       "      <td>1.839999e+07</td>\n",
       "      <td>0.0</td>\n",
       "      <td>-20000000</td>\n",
       "    </tr>\n",
       "    <tr>\n",
       "      <th>74</th>\n",
       "      <td>347096</td>\n",
       "      <td>2.165433</td>\n",
       "      <td>0</td>\n",
       "      <td>0</td>\n",
       "      <td>Mythica: The Darkspore</td>\n",
       "      <td>[Melanie Stone, Kevin Sorbo, Adam Johnson, Jake Stormoen, Rocky Myers]</td>\n",
       "      <td>Anne K. Black</td>\n",
       "      <td>108</td>\n",
       "      <td>[Action, Adventure, Fantasy]</td>\n",
       "      <td>[Arrowstorm Entertainment]</td>\n",
       "      <td>2015-06-24</td>\n",
       "      <td>27</td>\n",
       "      <td>5.1</td>\n",
       "      <td>2015</td>\n",
       "      <td>0.000000e+00</td>\n",
       "      <td>0.0</td>\n",
       "      <td>0</td>\n",
       "    </tr>\n",
       "    <tr>\n",
       "      <th>75</th>\n",
       "      <td>308369</td>\n",
       "      <td>2.141506</td>\n",
       "      <td>0</td>\n",
       "      <td>0</td>\n",
       "      <td>Me and Earl and the Dying Girl</td>\n",
       "      <td>[Thomas Mann, RJ Cyler, Olivia Cooke, Connie Britton, Nick Offerman]</td>\n",
       "      <td>Alfonso Gomez-Rejon</td>\n",
       "      <td>105</td>\n",
       "      <td>[Comedy, Drama]</td>\n",
       "      <td>[Indian Paintbrush]</td>\n",
       "      <td>2015-06-12</td>\n",
       "      <td>569</td>\n",
       "      <td>7.7</td>\n",
       "      <td>2015</td>\n",
       "      <td>0.000000e+00</td>\n",
       "      <td>0.0</td>\n",
       "      <td>0</td>\n",
       "    </tr>\n",
       "    <tr>\n",
       "      <th>92</th>\n",
       "      <td>370687</td>\n",
       "      <td>1.876037</td>\n",
       "      <td>0</td>\n",
       "      <td>0</td>\n",
       "      <td>Mythica: The Necromancer</td>\n",
       "      <td>[Melanie Stone, Adam Johnson, Kevin Sorbo, Nicola Posener, Jake Stormoen]</td>\n",
       "      <td>A. Todd Smith</td>\n",
       "      <td>0</td>\n",
       "      <td>[Fantasy, Action, Adventure]</td>\n",
       "      <td>[Arrowstorm Entertainment, Camera 40 Productions, Bellpond Films]</td>\n",
       "      <td>2015-12-19</td>\n",
       "      <td>11</td>\n",
       "      <td>5.4</td>\n",
       "      <td>2015</td>\n",
       "      <td>0.000000e+00</td>\n",
       "      <td>0.0</td>\n",
       "      <td>0</td>\n",
       "    </tr>\n",
       "    <tr>\n",
       "      <th>...</th>\n",
       "      <td>...</td>\n",
       "      <td>...</td>\n",
       "      <td>...</td>\n",
       "      <td>...</td>\n",
       "      <td>...</td>\n",
       "      <td>...</td>\n",
       "      <td>...</td>\n",
       "      <td>...</td>\n",
       "      <td>...</td>\n",
       "      <td>...</td>\n",
       "      <td>...</td>\n",
       "      <td>...</td>\n",
       "      <td>...</td>\n",
       "      <td>...</td>\n",
       "      <td>...</td>\n",
       "      <td>...</td>\n",
       "      <td>...</td>\n",
       "    </tr>\n",
       "    <tr>\n",
       "      <th>10861</th>\n",
       "      <td>21</td>\n",
       "      <td>0.080598</td>\n",
       "      <td>0</td>\n",
       "      <td>0</td>\n",
       "      <td>The Endless Summer</td>\n",
       "      <td>[Michael Hynson, Robert August, Lord 'Tally Ho' Blears, Bruce Brown, Chip Fitzwater]</td>\n",
       "      <td>Bruce Brown</td>\n",
       "      <td>95</td>\n",
       "      <td>[Documentary]</td>\n",
       "      <td>[Bruce Brown Films]</td>\n",
       "      <td>2066-06-15</td>\n",
       "      <td>11</td>\n",
       "      <td>7.4</td>\n",
       "      <td>1966</td>\n",
       "      <td>0.000000e+00</td>\n",
       "      <td>0.0</td>\n",
       "      <td>0</td>\n",
       "    </tr>\n",
       "    <tr>\n",
       "      <th>10862</th>\n",
       "      <td>20379</td>\n",
       "      <td>0.065543</td>\n",
       "      <td>0</td>\n",
       "      <td>0</td>\n",
       "      <td>Grand Prix</td>\n",
       "      <td>[James Garner, Eva Marie Saint, Yves Montand, ToshirÅ Mifune, Brian Bedford]</td>\n",
       "      <td>John Frankenheimer</td>\n",
       "      <td>176</td>\n",
       "      <td>[Action, Adventure, Drama]</td>\n",
       "      <td>[Cherokee Productions, Joel Productions, Douglas &amp; Lewis Productions]</td>\n",
       "      <td>2066-12-21</td>\n",
       "      <td>20</td>\n",
       "      <td>5.7</td>\n",
       "      <td>1966</td>\n",
       "      <td>0.000000e+00</td>\n",
       "      <td>0.0</td>\n",
       "      <td>0</td>\n",
       "    </tr>\n",
       "    <tr>\n",
       "      <th>10863</th>\n",
       "      <td>39768</td>\n",
       "      <td>0.065141</td>\n",
       "      <td>0</td>\n",
       "      <td>0</td>\n",
       "      <td>Beregis Avtomobilya</td>\n",
       "      <td>[Innokentiy Smoktunovskiy, Oleg Efremov, Georgi Zhzhyonov, Olga Aroseva, Lyubov Dobrzhanskaya]</td>\n",
       "      <td>Eldar Ryazanov</td>\n",
       "      <td>94</td>\n",
       "      <td>[Mystery, Comedy]</td>\n",
       "      <td>[Mosfilm]</td>\n",
       "      <td>2066-01-01</td>\n",
       "      <td>11</td>\n",
       "      <td>6.5</td>\n",
       "      <td>1966</td>\n",
       "      <td>0.000000e+00</td>\n",
       "      <td>0.0</td>\n",
       "      <td>0</td>\n",
       "    </tr>\n",
       "    <tr>\n",
       "      <th>10864</th>\n",
       "      <td>21449</td>\n",
       "      <td>0.064317</td>\n",
       "      <td>0</td>\n",
       "      <td>0</td>\n",
       "      <td>What's Up, Tiger Lily?</td>\n",
       "      <td>[Tatsuya Mihashi, Akiko Wakabayashi, Mie Hama, John Sebastian, Tadao Nakamaru]</td>\n",
       "      <td>Woody Allen</td>\n",
       "      <td>80</td>\n",
       "      <td>[Action, Comedy]</td>\n",
       "      <td>[Benedict Pictures Corp.]</td>\n",
       "      <td>2066-11-02</td>\n",
       "      <td>22</td>\n",
       "      <td>5.4</td>\n",
       "      <td>1966</td>\n",
       "      <td>0.000000e+00</td>\n",
       "      <td>0.0</td>\n",
       "      <td>0</td>\n",
       "    </tr>\n",
       "    <tr>\n",
       "      <th>10865</th>\n",
       "      <td>22293</td>\n",
       "      <td>0.035919</td>\n",
       "      <td>19000</td>\n",
       "      <td>0</td>\n",
       "      <td>Manos: The Hands of Fate</td>\n",
       "      <td>[Harold P. Warren, Tom Neyman, John Reynolds, Diane Mahree, Stephanie Nielson]</td>\n",
       "      <td>Harold P. Warren</td>\n",
       "      <td>74</td>\n",
       "      <td>[Horror]</td>\n",
       "      <td>[Norm-Iris]</td>\n",
       "      <td>2066-11-15</td>\n",
       "      <td>15</td>\n",
       "      <td>1.5</td>\n",
       "      <td>1966</td>\n",
       "      <td>1.276423e+05</td>\n",
       "      <td>0.0</td>\n",
       "      <td>-19000</td>\n",
       "    </tr>\n",
       "  </tbody>\n",
       "</table>\n",
       "<p>5022 rows × 17 columns</p>\n",
       "</div>"
      ],
      "text/plain": [
       "           id  popularity    budget  revenue                  original_title  \\\n",
       "48     265208    2.932340  30000000        0                       Wild Card   \n",
       "67     334074    2.331636  20000000        0                        Survivor   \n",
       "74     347096    2.165433         0        0          Mythica: The Darkspore   \n",
       "75     308369    2.141506         0        0  Me and Earl and the Dying Girl   \n",
       "92     370687    1.876037         0        0        Mythica: The Necromancer   \n",
       "...       ...         ...       ...      ...                             ...   \n",
       "10861      21    0.080598         0        0              The Endless Summer   \n",
       "10862   20379    0.065543         0        0                      Grand Prix   \n",
       "10863   39768    0.065141         0        0             Beregis Avtomobilya   \n",
       "10864   21449    0.064317         0        0          What's Up, Tiger Lily?   \n",
       "10865   22293    0.035919     19000        0        Manos: The Hands of Fate   \n",
       "\n",
       "                                                                                                 cast  \\\n",
       "48            [Jason Statham, Michael Angarano, Milo Ventimiglia, Dominik GarcÃ­a-Lorido, Anne Heche]   \n",
       "67                  [Pierce Brosnan, Milla Jovovich, Dylan McDermott, Angela Bassett, Robert Forster]   \n",
       "74                             [Melanie Stone, Kevin Sorbo, Adam Johnson, Jake Stormoen, Rocky Myers]   \n",
       "75                               [Thomas Mann, RJ Cyler, Olivia Cooke, Connie Britton, Nick Offerman]   \n",
       "92                          [Melanie Stone, Adam Johnson, Kevin Sorbo, Nicola Posener, Jake Stormoen]   \n",
       "...                                                                                               ...   \n",
       "10861            [Michael Hynson, Robert August, Lord 'Tally Ho' Blears, Bruce Brown, Chip Fitzwater]   \n",
       "10862                    [James Garner, Eva Marie Saint, Yves Montand, ToshirÅ Mifune, Brian Bedford]   \n",
       "10863  [Innokentiy Smoktunovskiy, Oleg Efremov, Georgi Zhzhyonov, Olga Aroseva, Lyubov Dobrzhanskaya]   \n",
       "10864                  [Tatsuya Mihashi, Akiko Wakabayashi, Mie Hama, John Sebastian, Tadao Nakamaru]   \n",
       "10865                  [Harold P. Warren, Tom Neyman, John Reynolds, Diane Mahree, Stephanie Nielson]   \n",
       "\n",
       "                  director  runtime                        genres  \\\n",
       "48              Simon West       92      [Thriller, Crime, Drama]   \n",
       "67          James McTeigue       96     [Crime, Thriller, Action]   \n",
       "74           Anne K. Black      108  [Action, Adventure, Fantasy]   \n",
       "75     Alfonso Gomez-Rejon      105               [Comedy, Drama]   \n",
       "92           A. Todd Smith        0  [Fantasy, Action, Adventure]   \n",
       "...                    ...      ...                           ...   \n",
       "10861          Bruce Brown       95                 [Documentary]   \n",
       "10862   John Frankenheimer      176    [Action, Adventure, Drama]   \n",
       "10863       Eldar Ryazanov       94             [Mystery, Comedy]   \n",
       "10864          Woody Allen       80              [Action, Comedy]   \n",
       "10865     Harold P. Warren       74                      [Horror]   \n",
       "\n",
       "                                                                                               production_companies  \\\n",
       "48     [Current Entertainment, Lionsgate, Sierra / Affinity, SJ Heat Productions, Silver State Production Services]   \n",
       "67                                          [Nu Image Films, Winkler Films, Millennium Films, Survivor Productions]   \n",
       "74                                                                                       [Arrowstorm Entertainment]   \n",
       "75                                                                                              [Indian Paintbrush]   \n",
       "92                                                [Arrowstorm Entertainment, Camera 40 Productions, Bellpond Films]   \n",
       "...                                                                                                             ...   \n",
       "10861                                                                                           [Bruce Brown Films]   \n",
       "10862                                         [Cherokee Productions, Joel Productions, Douglas & Lewis Productions]   \n",
       "10863                                                                                                     [Mosfilm]   \n",
       "10864                                                                                     [Benedict Pictures Corp.]   \n",
       "10865                                                                                                   [Norm-Iris]   \n",
       "\n",
       "      release_date  vote_count  vote_average  release_year    budget_adj  \\\n",
       "48      2015-01-14         481           5.3          2015  2.759999e+07   \n",
       "67      2015-05-21         280           5.4          2015  1.839999e+07   \n",
       "74      2015-06-24          27           5.1          2015  0.000000e+00   \n",
       "75      2015-06-12         569           7.7          2015  0.000000e+00   \n",
       "92      2015-12-19          11           5.4          2015  0.000000e+00   \n",
       "...            ...         ...           ...           ...           ...   \n",
       "10861   2066-06-15          11           7.4          1966  0.000000e+00   \n",
       "10862   2066-12-21          20           5.7          1966  0.000000e+00   \n",
       "10863   2066-01-01          11           6.5          1966  0.000000e+00   \n",
       "10864   2066-11-02          22           5.4          1966  0.000000e+00   \n",
       "10865   2066-11-15          15           1.5          1966  1.276423e+05   \n",
       "\n",
       "       revenue_adj    profit  \n",
       "48             0.0 -30000000  \n",
       "67             0.0 -20000000  \n",
       "74             0.0         0  \n",
       "75             0.0         0  \n",
       "92             0.0         0  \n",
       "...            ...       ...  \n",
       "10861          0.0         0  \n",
       "10862          0.0         0  \n",
       "10863          0.0         0  \n",
       "10864          0.0         0  \n",
       "10865          0.0    -19000  \n",
       "\n",
       "[5022 rows x 17 columns]"
      ]
     },
     "execution_count": 41,
     "metadata": {},
     "output_type": "execute_result"
    }
   ],
   "source": [
    "# Print The movie with the lowest revenue\n",
    "mini_rev = mov['revenue'].min()\n",
    "mov[mov['revenue'] == mini_rev]"
   ]
  },
  {
   "cell_type": "code",
   "execution_count": 42,
   "id": "2aa79bd2",
   "metadata": {},
   "outputs": [
    {
     "data": {
      "image/png": "[encoded data removed]",
      "text/plain": [
       "<Figure size 432x288 with 1 Axes>"
      ]
     },
     "metadata": {
      "needs_background": "light"
     },
     "output_type": "display_data"
    }
   ],
   "source": [
    "# Make a plot which contain top 10 movies which earn highest revenue.\n",
    "df_rev = pd.DataFrame(mov['revenue'])\n",
    "df_rev['original_title'] = mov['original_title']\n",
    "# Sort\n",
    "df_rev = df_rev.sort_values(by=['revenue'], ascending=False)\n",
    "\n",
    "data = list(map(str,(df_rev['original_title'])))\n",
    "x = list(data[:10])\n",
    "y = list(df_rev['revenue'][:10])\n",
    "\n",
    "ax = sns.pointplot(x=y,y=x)\n",
    "ax.set_title(\"Top 10 Revenue Movies\",fontsize = 15);\n",
    "ax.set_xlabel(\"Revenue\",fontsize = 14);"
   ]
  },
  {
   "cell_type": "code",
   "execution_count": null,
   "id": "202f8f05",
   "metadata": {},
   "outputs": [],
   "source": []
  },
  {
   "cell_type": "code",
   "execution_count": null,
   "id": "6f63c500",
   "metadata": {},
   "outputs": [],
   "source": []
  },
  {
   "cell_type": "markdown",
   "id": "5584fa01",
   "metadata": {},
   "source": [
    "### Question 4: What movies have the highest and lowest ratings from viewers?"
   ]
  },
  {
   "cell_type": "code",
   "execution_count": 43,
   "id": "d97bfdfd",
   "metadata": {
    "scrolled": true
   },
   "outputs": [
    {
     "data": {
      "text/html": [
       "<div>\n",
       "<style scoped>\n",
       "    .dataframe tbody tr th:only-of-type {\n",
       "        vertical-align: middle;\n",
       "    }\n",
       "\n",
       "    .dataframe tbody tr th {\n",
       "        vertical-align: top;\n",
       "    }\n",
       "\n",
       "    .dataframe thead th {\n",
       "        text-align: right;\n",
       "    }\n",
       "</style>\n",
       "<table border=\"1\" class=\"dataframe\">\n",
       "  <thead>\n",
       "    <tr style=\"text-align: right;\">\n",
       "      <th></th>\n",
       "      <th>id</th>\n",
       "      <th>popularity</th>\n",
       "      <th>budget</th>\n",
       "      <th>revenue</th>\n",
       "      <th>original_title</th>\n",
       "      <th>cast</th>\n",
       "      <th>director</th>\n",
       "      <th>runtime</th>\n",
       "      <th>genres</th>\n",
       "      <th>production_companies</th>\n",
       "      <th>release_date</th>\n",
       "      <th>vote_count</th>\n",
       "      <th>vote_average</th>\n",
       "      <th>release_year</th>\n",
       "      <th>budget_adj</th>\n",
       "      <th>revenue_adj</th>\n",
       "      <th>profit</th>\n",
       "    </tr>\n",
       "  </thead>\n",
       "  <tbody>\n",
       "    <tr>\n",
       "      <th>6911</th>\n",
       "      <td>24970</td>\n",
       "      <td>0.21201</td>\n",
       "      <td>0</td>\n",
       "      <td>0</td>\n",
       "      <td>Pink Floyd: Pulse</td>\n",
       "      <td>[David Gilmour, Nick Mason, Richard Wright, Sam Brown, Jon Carin]</td>\n",
       "      <td>David Mallet</td>\n",
       "      <td>145</td>\n",
       "      <td>[Music]</td>\n",
       "      <td>[SMV Enterprises, Columbia Music Video, EMI]</td>\n",
       "      <td>2006-07-09</td>\n",
       "      <td>23</td>\n",
       "      <td>8.7</td>\n",
       "      <td>2006</td>\n",
       "      <td>0.0</td>\n",
       "      <td>0.0</td>\n",
       "      <td>0</td>\n",
       "    </tr>\n",
       "  </tbody>\n",
       "</table>\n",
       "</div>"
      ],
      "text/plain": [
       "         id  popularity  budget  revenue     original_title  \\\n",
       "6911  24970     0.21201       0        0  Pink Floyd: Pulse   \n",
       "\n",
       "                                                                   cast  \\\n",
       "6911  [David Gilmour, Nick Mason, Richard Wright, Sam Brown, Jon Carin]   \n",
       "\n",
       "          director  runtime   genres  \\\n",
       "6911  David Mallet      145  [Music]   \n",
       "\n",
       "                              production_companies release_date  vote_count  \\\n",
       "6911  [SMV Enterprises, Columbia Music Video, EMI]   2006-07-09          23   \n",
       "\n",
       "      vote_average  release_year  budget_adj  revenue_adj  profit  \n",
       "6911           8.7          2006         0.0          0.0       0  "
      ]
     },
     "execution_count": 43,
     "metadata": {},
     "output_type": "execute_result"
    }
   ],
   "source": [
    "# Print The movie with the highest vote\n",
    "max_vote = mov['vote_average'].max()\n",
    "mov[mov['vote_average'] == max_vote]"
   ]
  },
  {
   "cell_type": "code",
   "execution_count": 44,
   "id": "d356bcd3",
   "metadata": {},
   "outputs": [
    {
     "data": {
      "text/html": [
       "<div>\n",
       "<style scoped>\n",
       "    .dataframe tbody tr th:only-of-type {\n",
       "        vertical-align: middle;\n",
       "    }\n",
       "\n",
       "    .dataframe tbody tr th {\n",
       "        vertical-align: top;\n",
       "    }\n",
       "\n",
       "    .dataframe thead th {\n",
       "        text-align: right;\n",
       "    }\n",
       "</style>\n",
       "<table border=\"1\" class=\"dataframe\">\n",
       "  <thead>\n",
       "    <tr style=\"text-align: right;\">\n",
       "      <th></th>\n",
       "      <th>id</th>\n",
       "      <th>popularity</th>\n",
       "      <th>budget</th>\n",
       "      <th>revenue</th>\n",
       "      <th>original_title</th>\n",
       "      <th>cast</th>\n",
       "      <th>director</th>\n",
       "      <th>runtime</th>\n",
       "      <th>genres</th>\n",
       "      <th>production_companies</th>\n",
       "      <th>release_date</th>\n",
       "      <th>vote_count</th>\n",
       "      <th>vote_average</th>\n",
       "      <th>release_year</th>\n",
       "      <th>budget_adj</th>\n",
       "      <th>revenue_adj</th>\n",
       "      <th>profit</th>\n",
       "    </tr>\n",
       "  </thead>\n",
       "  <tbody>\n",
       "    <tr>\n",
       "      <th>7772</th>\n",
       "      <td>25055</td>\n",
       "      <td>0.121120</td>\n",
       "      <td>0</td>\n",
       "      <td>0</td>\n",
       "      <td>Transmorphers</td>\n",
       "      <td>[Matthew Wolf, Amy Weber, Shaley Scott, Eliza Swenson, Griff Furst]</td>\n",
       "      <td>Leigh Scott</td>\n",
       "      <td>86</td>\n",
       "      <td>[Action, Adventure, Science Fiction]</td>\n",
       "      <td>[Asylum, The]</td>\n",
       "      <td>2007-06-26</td>\n",
       "      <td>10</td>\n",
       "      <td>1.5</td>\n",
       "      <td>2007</td>\n",
       "      <td>0.000000</td>\n",
       "      <td>0.0</td>\n",
       "      <td>0</td>\n",
       "    </tr>\n",
       "    <tr>\n",
       "      <th>10865</th>\n",
       "      <td>22293</td>\n",
       "      <td>0.035919</td>\n",
       "      <td>19000</td>\n",
       "      <td>0</td>\n",
       "      <td>Manos: The Hands of Fate</td>\n",
       "      <td>[Harold P. Warren, Tom Neyman, John Reynolds, Diane Mahree, Stephanie Nielson]</td>\n",
       "      <td>Harold P. Warren</td>\n",
       "      <td>74</td>\n",
       "      <td>[Horror]</td>\n",
       "      <td>[Norm-Iris]</td>\n",
       "      <td>2066-11-15</td>\n",
       "      <td>15</td>\n",
       "      <td>1.5</td>\n",
       "      <td>1966</td>\n",
       "      <td>127642.279154</td>\n",
       "      <td>0.0</td>\n",
       "      <td>-19000</td>\n",
       "    </tr>\n",
       "  </tbody>\n",
       "</table>\n",
       "</div>"
      ],
      "text/plain": [
       "          id  popularity  budget  revenue            original_title  \\\n",
       "7772   25055    0.121120       0        0             Transmorphers   \n",
       "10865  22293    0.035919   19000        0  Manos: The Hands of Fate   \n",
       "\n",
       "                                                                                 cast  \\\n",
       "7772              [Matthew Wolf, Amy Weber, Shaley Scott, Eliza Swenson, Griff Furst]   \n",
       "10865  [Harold P. Warren, Tom Neyman, John Reynolds, Diane Mahree, Stephanie Nielson]   \n",
       "\n",
       "               director  runtime                                genres  \\\n",
       "7772        Leigh Scott       86  [Action, Adventure, Science Fiction]   \n",
       "10865  Harold P. Warren       74                              [Horror]   \n",
       "\n",
       "      production_companies release_date  vote_count  vote_average  \\\n",
       "7772         [Asylum, The]   2007-06-26          10           1.5   \n",
       "10865          [Norm-Iris]   2066-11-15          15           1.5   \n",
       "\n",
       "       release_year     budget_adj  revenue_adj  profit  \n",
       "7772           2007       0.000000          0.0       0  \n",
       "10865          1966  127642.279154          0.0  -19000  "
      ]
     },
     "execution_count": 44,
     "metadata": {},
     "output_type": "execute_result"
    }
   ],
   "source": [
    "# Print The movie with the lowest vote\n",
    "mini_vote = mov['vote_average'].min()\n",
    "mov[mov['vote_average'] == mini_vote]"
   ]
  },
  {
   "cell_type": "code",
   "execution_count": 45,
   "id": "bc3ba2c8",
   "metadata": {
    "scrolled": false
   },
   "outputs": [
    {
     "data": {
      "image/png": "[encoded data removed]",
      "text/plain": [
       "<Figure size 432x288 with 1 Axes>"
      ]
     },
     "metadata": {
      "needs_background": "light"
     },
     "output_type": "display_data"
    }
   ],
   "source": [
    "# Make a plot which contain top 10 movies which earn highest vote.\n",
    "df_vote = pd.DataFrame(mov['vote_average'])\n",
    "df_vote['original_title'] = mov['original_title']\n",
    "# Sort\n",
    "df_vote = df_vote.sort_values(by=['vote_average'], ascending=False)\n",
    "\n",
    "data = list(map(str,(df_vote['original_title'])))\n",
    "x = list(data[:10])\n",
    "y = list(df_vote['vote_average'][:10])\n",
    "\n",
    "ax = sns.pointplot(x=y,y=x)\n",
    "ax.set_title(\"Top 10 Rated Movies\",fontsize = 15);\n",
    "ax.set_xlabel(\"Vote Average\",fontsize = 14);"
   ]
  },
  {
   "cell_type": "markdown",
   "id": "3ea9acff",
   "metadata": {},
   "source": [
    "### Answer 4:\n",
    "- The movie with the highest rating is Pink Floyd: Pulse in 2006, but unfortunately it is not clear whether this vote made a difference in revenue or not.\n",
    "- The movie with the lowest rating is Transmorphers in 2007, but unfortunately it's not clear if this vote made a difference in revenue."
   ]
  },
  {
   "cell_type": "code",
   "execution_count": null,
   "id": "94d6dfb4",
   "metadata": {},
   "outputs": [],
   "source": []
  },
  {
   "cell_type": "code",
   "execution_count": null,
   "id": "12adae69",
   "metadata": {},
   "outputs": [],
   "source": []
  },
  {
   "cell_type": "markdown",
   "id": "2588379b",
   "metadata": {},
   "source": [
    "### Question 5: Who are the most prominent directors who have shot the most movies?"
   ]
  },
  {
   "cell_type": "code",
   "execution_count": 46,
   "id": "c4ef3320",
   "metadata": {},
   "outputs": [
    {
     "data": {
      "text/plain": [
       "Woody Allen                         42\n",
       "Clint Eastwood                      34\n",
       "Steven Spielberg                    29\n",
       "Martin Scorsese                     26\n",
       "Ridley Scott                        23\n",
       "                                    ..\n",
       "Alberto Sironi                       1\n",
       "Brett Simon                          1\n",
       "Mike Maguire|Tom Kuntz               1\n",
       "Susanna White|Simon Cellan Jones     1\n",
       "Harold P. Warren                     1\n",
       "Name: director, Length: 4505, dtype: int64"
      ]
     },
     "execution_count": 46,
     "metadata": {},
     "output_type": "execute_result"
    }
   ],
   "source": [
    "count_dir = mov['director'].value_counts()\n",
    "count_dir"
   ]
  },
  {
   "cell_type": "code",
   "execution_count": 47,
   "id": "6821c26c",
   "metadata": {
    "scrolled": false
   },
   "outputs": [
    {
     "data": {
      "image/png": "[encoded data removed]",
      "text/plain": [
       "<Figure size 936x432 with 1 Axes>"
      ]
     },
     "metadata": {
      "needs_background": "light"
     },
     "output_type": "display_data"
    }
   ],
   "source": [
    "count_dir[:20].plot(kind= 'bar',figsize = (13,6),fontsize=12,colormap='tab20c');\n",
    "\n",
    "plt.title(\"The Director With The Highest Release Movies\",fontsize=18);\n",
    "plt.xlabel('Director Name',fontsize=14);\n",
    "plt.ylabel(\"Number Of Movies\",fontsize= 14);"
   ]
  },
  {
   "cell_type": "markdown",
   "id": "c48182ca",
   "metadata": {},
   "source": [
    "### Answer 5:\n",
    "- One of the reasons for the success of the film is the director because he excelled in producing the film\n",
    "- Therefore, it is better to choose the best experienced director for the success of the film\n",
    "- And here is the director who produced the largest number of films is Woody Allen"
   ]
  },
  {
   "cell_type": "code",
   "execution_count": null,
   "id": "d6d2d7f9",
   "metadata": {},
   "outputs": [],
   "source": []
  },
  {
   "cell_type": "code",
   "execution_count": null,
   "id": "751176df",
   "metadata": {},
   "outputs": [],
   "source": []
  },
  {
   "cell_type": "markdown",
   "id": "556cd3a5",
   "metadata": {},
   "source": [
    "### Question 6: What is the relationship between revenue and movie popularity?"
   ]
  },
  {
   "cell_type": "code",
   "execution_count": 48,
   "id": "e4439ae2",
   "metadata": {
    "scrolled": true
   },
   "outputs": [
    {
     "data": {
      "image/png": "[encoded data removed]",
      "text/plain": [
       "<Figure size 432x288 with 1 Axes>"
      ]
     },
     "metadata": {
      "needs_background": "light"
     },
     "output_type": "display_data"
    }
   ],
   "source": [
    "ax = sns.regplot(x='revenue', y='popularity', data=mov)\n",
    "\n",
    "plt.title('Revenue Vs Popularity', fontsize = 18)\n",
    "plt.xlabel('Revenue', fontsize = 14);\n",
    "plt.ylabel('Popularity', fontsize = 14);"
   ]
  },
  {
   "cell_type": "markdown",
   "id": "9d6364f7",
   "metadata": {},
   "source": [
    "### Answer 6: Popularity vs Revenue\n",
    "- Obviously, revenue increases directly with popularity.\n",
    "- That is, we can take into account that if the popularity of the movie is high, a large percentage of the movie will achieve high revenues"
   ]
  },
  {
   "cell_type": "code",
   "execution_count": null,
   "id": "06102d2f",
   "metadata": {},
   "outputs": [],
   "source": []
  },
  {
   "cell_type": "code",
   "execution_count": null,
   "id": "7ee1a4ba",
   "metadata": {},
   "outputs": [],
   "source": []
  },
  {
   "cell_type": "markdown",
   "id": "8ea053c9",
   "metadata": {},
   "source": [
    "### Question 7: What is the relationship between revenue and movie budget?"
   ]
  },
  {
   "cell_type": "code",
   "execution_count": 49,
   "id": "b3203773",
   "metadata": {
    "scrolled": true
   },
   "outputs": [
    {
     "data": {
      "image/png": "[encoded data removed]",
      "text/plain": [
       "<Figure size 432x288 with 1 Axes>"
      ]
     },
     "metadata": {
      "needs_background": "light"
     },
     "output_type": "display_data"
    }
   ],
   "source": [
    "ax = sns.regplot(x='revenue', y='budget', data=mov)\n",
    "\n",
    "plt.title('Revenue Vs Budget', fontsize = 18)\n",
    "plt.xlabel('Revenue', fontsize = 14);\n",
    "plt.ylabel('Budget', fontsize = 14);"
   ]
  },
  {
   "cell_type": "markdown",
   "id": "9afd00bb",
   "metadata": {},
   "source": [
    "### Answer 7: Budget vs Revenue\n",
    "- Revenue increases with the budget slightly, but it is clear that many films do not have a high budget.\n",
    "- But few films with high budgets make high revenues\n",
    "- Also, investing in the film's budget will yield a good return on revenue."
   ]
  },
  {
   "cell_type": "code",
   "execution_count": null,
   "id": "ea541295",
   "metadata": {},
   "outputs": [],
   "source": []
  },
  {
   "cell_type": "code",
   "execution_count": null,
   "id": "a8176761",
   "metadata": {},
   "outputs": [],
   "source": []
  },
  {
   "cell_type": "markdown",
   "id": "a2a145e7",
   "metadata": {},
   "source": [
    "### Question 8: What is the relationship between revenue and viewers' vote on the movie?"
   ]
  },
  {
   "cell_type": "code",
   "execution_count": 50,
   "id": "981b88f9",
   "metadata": {},
   "outputs": [
    {
     "data": {
      "image/png": "[encoded data removed]",
      "text/plain": [
       "<Figure size 432x288 with 1 Axes>"
      ]
     },
     "metadata": {
      "needs_background": "light"
     },
     "output_type": "display_data"
    }
   ],
   "source": [
    "x = sns.regplot(x='revenue', y='vote_average', data=mov)\n",
    "\n",
    "plt.title('Revenue Vs Vote', fontsize = 18)\n",
    "plt.xlabel('Revenue', fontsize = 14);\n",
    "plt.ylabel('Vote', fontsize = 14);"
   ]
  },
  {
   "cell_type": "code",
   "execution_count": 51,
   "id": "36d6e6e5",
   "metadata": {
    "scrolled": false
   },
   "outputs": [
    {
     "data": {
      "image/png": "[encoded data removed]",
      "text/plain": [
       "<Figure size 432x288 with 1 Axes>"
      ]
     },
     "metadata": {
      "needs_background": "light"
     },
     "output_type": "display_data"
    }
   ],
   "source": [
    "mov.plot(x='vote_average',y='revenue',kind='scatter')\n",
    "\n",
    "plt.title('Revenue Vs Vote', fontsize = 18)\n",
    "plt.xlabel('Vote', fontsize = 14);\n",
    "plt.ylabel('Revenue', fontsize = 14);"
   ]
  },
  {
   "cell_type": "markdown",
   "id": "7a4ff7b0",
   "metadata": {},
   "source": [
    "### Answer 7: Vote for Revenue\n",
    "- Voting has nothing to do with revenue.\n",
    "- This means that sometimes the result is correct and expected revenue, and sometimes it is not.\n",
    "- But in the end, voting cannot be relied on to determine the extent of revenue increase"
   ]
  },
  {
   "cell_type": "code",
   "execution_count": null,
   "id": "1689ce9c",
   "metadata": {},
   "outputs": [],
   "source": []
  },
  {
   "cell_type": "code",
   "execution_count": null,
   "id": "e474dd66",
   "metadata": {},
   "outputs": [],
   "source": []
  },
  {
   "cell_type": "markdown",
   "id": "b5454a51",
   "metadata": {},
   "source": [
    "<a id='conclusions'></a>\n",
    "## Conclusions"
   ]
  },
  {
   "cell_type": "markdown",
   "id": "77670277",
   "metadata": {},
   "source": [
    "- The largest number of movies were produced in 2014.\n",
    "- \"Avatar\", \"Star Wars\" and \"Titanic\" are the highest profit movies.\n",
    "- The movie that took the most number of losses is The Warrior's Way in 2010.\n",
    "- The movie with the highest rating is Pink Floyd: Pulse in 2006.\n",
    "- The movie with the lowest rating is Transmorphers in 2007.\n",
    "- The director who has produced the most movies is Woody Allen.\n",
    "- If the popularity of the movie is high, a large percentage of the movie will achieve high revenues.\n",
    "- Movies with higher budgets showed a corresponding increase in revenue.\n",
    "- Voting cannot be relied on to determine the extent of revenue increase"
   ]
  },
  {
   "cell_type": "markdown",
   "id": "d9fc59d0",
   "metadata": {},
   "source": [
    " ## The Limitations"
   ]
  },
  {
   "cell_type": "markdown",
   "id": "e1e9206f",
   "metadata": {},
   "source": [
    "### The limitation I had was in the data wrangling section when I cleaned up the data.\n",
    "1. Some of the challenges I had with this project are when printing rows with zero values in the budget and revenue,And i find it...\n",
    ">Rows With Zero Values In The Budget Column: **5696** Rows With Zero Values In The Revenue Column: **6016**\n",
    "\n",
    "***\n",
    "So I discovered that it is a large number of rows, and if I clean and delete those rows, I will lose a lot of data\n",
    "So I was limited to cleaning this part.\n",
    "***"
   ]
  },
  {
   "cell_type": "markdown",
   "id": "7d7a8da9",
   "metadata": {},
   "source": [
    "2. It was difficult for me to analyze the genre column because there are some movies that have one genre and others that have more than one genre.\n",
    "***\n",
    "So I was limited and unable to count the most popular genres and the highest revenue movie genres.\n",
    "***"
   ]
  },
  {
   "cell_type": "markdown",
   "id": "69a31e92",
   "metadata": {},
   "source": [
    "# THANKS"
   ]
  }
 ],
 "metadata": {
  "kernelspec": {
   "display_name": "Python 3",
   "language": "python",
   "name": "python3"
  },
  "language_info": {
   "codemirror_mode": {
    "name": "ipython",
    "version": 3
   },
   "file_extension": ".py",
   "mimetype": "text/x-python",
   "name": "python",
   "nbconvert_exporter": "python",
   "pygments_lexer": "ipython3",
   "version": "3.8.11"
  }
 },
 "nbformat": 4,
 "nbformat_minor": 5
}
